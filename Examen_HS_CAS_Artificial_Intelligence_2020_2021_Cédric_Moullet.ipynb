{
  "nbformat": 4,
  "nbformat_minor": 0,
  "metadata": {
    "colab": {
      "name": "Examen - HS CAS Artificial Intelligence 2020-2021 Cédric Moullet",
      "provenance": [],
      "collapsed_sections": [],
      "toc_visible": true,
      "include_colab_link": true
    },
    "kernelspec": {
      "display_name": "Python 3",
      "name": "python3"
    }
  },
  "cells": [
    {
      "cell_type": "markdown",
      "metadata": {
        "id": "view-in-github",
        "colab_type": "text"
      },
      "source": [
        "<a href=\"https://colab.research.google.com/github/buche2/CAS_AI_2020_2021/blob/main/Examen_HS_CAS_Artificial_Intelligence_2020_2021_C%C3%A9dric_Moullet.ipynb\" target=\"_parent\"><img src=\"https://colab.research.google.com/assets/colab-badge.svg\" alt=\"Open In Colab\"/></a>"
      ]
    },
    {
      "cell_type": "code",
      "metadata": {
        "id": "BP5wbQPXLQGc",
        "cellView": "form"
      },
      "source": [
        "Bearbeitungs-Zeit = '10:00 - 12:00' #@param {type:\"string\"}"
      ],
      "execution_count": null,
      "outputs": []
    },
    {
      "cell_type": "code",
      "metadata": {
        "id": "zsJ-FKO8KtqH",
        "cellView": "form"
      },
      "source": [
        "@title Date fields\n",
        "Datum = '2021-04-06' #@param {type:\"date\"}"
      ],
      "execution_count": null,
      "outputs": []
    },
    {
      "cell_type": "code",
      "metadata": {
        "id": "QsbmY_ZwK3qA",
        "cellView": "form"
      },
      "source": [
        "Name = 'Moullet' #@param {type:\"string\"}\n",
        "Vorname = 'C\\xE9dric' #@param {type:\"string\"}"
      ],
      "execution_count": null,
      "outputs": []
    },
    {
      "cell_type": "markdown",
      "metadata": {
        "id": "_7gRpQLXQSID"
      },
      "source": [
        "# **Deeplearning**"
      ]
    },
    {
      "cell_type": "markdown",
      "metadata": {
        "id": "jE8XB_pKC2kS"
      },
      "source": [
        "##**1 Gradient**"
      ]
    },
    {
      "cell_type": "markdown",
      "metadata": {
        "id": "GQWFdmaYDkEv"
      },
      "source": [
        "### Aufgabe 1:\n",
        "\n",
        "Für eine mehrdimensionale Funktion $\\displaystyle f\\colon \\mathbf {R} ^{n}\\to \\mathbf {R} $\n",
        "ist ihr gradient \n",
        "$\\displaystyle \\nabla f\\colon \\mathbf {R} ^{n}\\to \\mathbf {R} ^{n}$\n",
        " definiert als Spalten-Vektor ihrer partiellen Ableitungen in einem Punkt \n",
        "$\\displaystyle \\mathrm {p} =(x_{1},\\ldots ,x_{n})$:\n",
        "\n",
        "$\\displaystyle \\nabla f(p)={\\begin{bmatrix}{\\frac {\\partial f}{\\partial x_{1}}}(p)\\\\\\vdots \\\\{\\frac {\\partial f}{\\partial x_{n}}}(p)\\end{bmatrix}}.$\n",
        "\n",
        "**Gegeben:**\n",
        "Eine Funktion mit 2 unabhängigen Variablen $x$ und $y$: $f(x,y)= e^{3x} + ln(5y)$\n",
        "\n",
        "**Bestimmen Sie:**\n",
        "Den Gradienten der o.a. Funktion im Punkt $\\mathrm {p} = (x, y)$ mit  $x = 0, y = 1$:\n",
        "\n",
        "$\\displaystyle \\nabla f(0,1)={\\begin{bmatrix}{\\frac {\\partial f}{\\partial x}}(0,1)\\\\{\\frac {\\partial f}{\\partial y}}(0,1)\\end{bmatrix}}.$\n"
      ]
    },
    {
      "cell_type": "markdown",
      "metadata": {
        "id": "CNYmIC03DVTB"
      },
      "source": [
        "*Hinweis:* Berechnen Sie den Gradienten zunächst manuell auf Papier.\n",
        "\n",
        "***Bitte, die Zahlen innerhalb der Klammern durch Komma getrennt eingeben:***\n",
        "\n",
        "\n",
        "\n",
        "---"
      ]
    },
    {
      "cell_type": "code",
      "metadata": {
        "id": "_Z-KrajRJwPQ"
      },
      "source": [
        "# Comment Cédric Moullet:\n",
        "# Derivative according to x of exp(3x) is 3exp(3x)\n",
        "# Derivative according to y of ln(5y) is 1/y"
      ],
      "execution_count": null,
      "outputs": []
    },
    {
      "cell_type": "code",
      "metadata": {
        "id": "YemNTwCxSPbV",
        "cellView": "form"
      },
      "source": [
        "Gradient = \"[  3,1  ]\" #@param {type:\"string\"}\n"
      ],
      "execution_count": null,
      "outputs": []
    },
    {
      "cell_type": "markdown",
      "metadata": {
        "id": "-YZoZrXUzt05"
      },
      "source": [
        "##**2 Dense Networks**"
      ]
    },
    {
      "cell_type": "markdown",
      "metadata": {
        "id": "uQ4FSxszxNLN"
      },
      "source": [
        "### Aufgabe 2:"
      ]
    },
    {
      "cell_type": "markdown",
      "metadata": {
        "id": "YyTaes7SgWo7"
      },
      "source": [
        "**Gegeben:** \n",
        "\n",
        "$y = X^3 \\cdot W + b + noise$\n",
        "\n",
        "mit\n",
        "\n",
        "$\n",
        "\\begin{align}\n",
        "& y && - && Output/Label \\\\\n",
        "& X && - && Input Data-Matrix\\\\\n",
        "& W_{true} && - && Gewichte-Matrix\\\\\n",
        "& b_{true} && - && Bias\\\\\n",
        "& noise && - && Noise\\\\\n",
        "\\end{align}\n",
        "$\n",
        "\n",
        "und folgenden Parametern:"
      ]
    },
    {
      "cell_type": "code",
      "metadata": {
        "id": "5jOUmUdSX0Z-",
        "colab": {
          "base_uri": "https://localhost:8080/"
        },
        "outputId": "cfb208ab-b7bb-4b81-ece7-b9c1133bdf72"
      },
      "source": [
        "import tensorflow as tf\n",
        "from tensorflow.nn import relu, tanh\n",
        "import numpy as np\n",
        "\n",
        "# Definition der Daten\n",
        "\n",
        "# seed\n",
        "tf.random.set_seed(1234)\n",
        "\n",
        "INPUT_SIZE = 5\n",
        "OUTPUT_SIZE = 1\n",
        "\n",
        "TRUE_W = tf.Variable(tf.random.normal((INPUT_SIZE, OUTPUT_SIZE)), name='w')\n",
        "TRUE_B = tf.Variable(tf.zeros(OUTPUT_SIZE, dtype=tf.float32), name='b')\n",
        "\n",
        "NUM_EXAMPLES = 1000\n",
        "\n",
        "# A vector of random x values\n",
        "x = tf.random.normal(shape=[NUM_EXAMPLES, INPUT_SIZE])\n",
        "x_test = tf.random.normal(shape=[NUM_EXAMPLES, INPUT_SIZE])\n",
        "\n",
        "# Generate some noise\n",
        "noise = tf.random.normal(shape=[NUM_EXAMPLES, OUTPUT_SIZE])\n",
        "noise_test = tf.random.normal(shape=[NUM_EXAMPLES, OUTPUT_SIZE])\n",
        "\n",
        "# Calculate y\n",
        "y = x**3 @ TRUE_W + TRUE_B + noise\n",
        "y_test = x_test**3 @ TRUE_W + TRUE_B + noise_test\n",
        "print(f\"input-shape:{x.shape}, output-shape:{y.shape}\")"
      ],
      "execution_count": null,
      "outputs": [
        {
          "output_type": "stream",
          "text": [
            "input-shape:(1000, 5), output-shape:(1000, 1)\n"
          ],
          "name": "stdout"
        }
      ]
    },
    {
      "cell_type": "code",
      "metadata": {
        "id": "YtlORQr4jSUC",
        "colab": {
          "base_uri": "https://localhost:8080/",
          "height": 265
        },
        "outputId": "abfb0b0f-ba84-4822-e141-5cf3f2d32c48"
      },
      "source": [
        "# Plot all the data\n",
        "import matplotlib.pyplot as plt\n",
        "\n",
        "plt.scatter(x_test[:,0], y_test[:,0], c=\"b\")\n",
        "plt.scatter(x_test[:,1], y_test[:,0], c=\"r\")\n",
        "plt.show()"
      ],
      "execution_count": null,
      "outputs": [
        {
          "output_type": "display_data",
          "data": {
            "image/png": "[encoded data removed]",
            "text/plain": [
              "<Figure size 432x288 with 1 Axes>"
            ]
          },
          "metadata": {
            "tags": [],
            "needs_background": "light"
          }
        }
      ]
    },
    {
      "cell_type": "markdown",
      "metadata": {
        "id": "5wawI7Z1jD9R"
      },
      "source": [
        "\n",
        "**Wir möchten nun die wahren Gewichte-Matrix und Bias-Vektor mit Hilfe eines Dense Neuronal Networks bestimmen.**\n",
        "\n",
        "####**Aufgabe 2.1:** In der ```MyModel``` Klasse initialisieren Sie bitte Gewichte und Biases für **2 (zwei) Hidden Layer** und das **Output-Layer** eines Dense Networks mit:\n",
        "**Hidden 1: 10 Neuronen**\n",
        "\n",
        "**Hidden 2: 8 Neuronen**"
      ]
    },
    {
      "cell_type": "markdown",
      "metadata": {
        "id": "H1H13BKQFIhe"
      },
      "source": [
        "####**Aufgabe 2.2:** In der ```MyModel``` Klasse definieren Sie die \\_call_ Funktion:\n",
        "```\n",
        "def __call__(self, x)\n",
        "```\n",
        "Vrewenden sie dabei die ***tanh*** Aktivierungs-Funktion."
      ]
    },
    {
      "cell_type": "markdown",
      "metadata": {
        "id": "vvLu5aC_IZD7"
      },
      "source": [
        "####**Aufgabe 2.3:** Erzeugen Sie eine Model-Instanz und verifizieren Sie diese mit\n",
        "\n",
        "```\n",
        "model(x).numpy()\n",
        "```\n",
        "\n"
      ]
    },
    {
      "cell_type": "markdown",
      "metadata": {
        "id": "tpaXt4aqFlLK"
      },
      "source": [
        "\n",
        "####**Aufgabe 2.4:** Printen Sie die **Namen, Shapes und Werte** von allen Model-Variablen"
      ]
    },
    {
      "cell_type": "markdown",
      "metadata": {
        "id": "REBFwSW7Fld7"
      },
      "source": [
        "####**Aufgabe 2.5:** Wieviele **neue Gewichte** werden erzeugt, wenn Sie die Anzahl der Neuronen vom Hidden 2 vedoppeln, d.h. für **Hidden Layer 2 - 16 Neuronen** anlegen? Geben Sie die Anzahl der zusätzlichen Gewichte **nur für den Layer 2** aus.\n",
        "\n",
        "\n",
        "---\n",
        "\n",
        "\n",
        "Hinweis: Die Veränderung der Anzahl der Output-Neuronen eines Layers hat zwangsweise den Einfluss auch auf das Gewichte-Shape des unterstehenden Layers. Daher gilt die Frage einfachheitshalber nur für den selben Layer 2.\n",
        "\n",
        "---\n",
        "\n"
      ]
    },
    {
      "cell_type": "code",
      "metadata": {
        "cellView": "form",
        "id": "wqVVYcTuvcx7"
      },
      "source": [
        "Anzahl_Neuer_Gewichte =  80#@param {type:\"number\"}\n"
      ],
      "execution_count": null,
      "outputs": []
    },
    {
      "cell_type": "markdown",
      "metadata": {
        "id": "cHR-G8A2KUKu"
      },
      "source": [
        "####**Aufgabe 2.6:** Warum wird hier ein anderer Seed verwendet, als im vorherigen Code-Abschnitt \"Definition der Daten\"? Beschreiben Sie die Ursache mit eigenen Worten in einem Satz."
      ]
    },
    {
      "cell_type": "code",
      "metadata": {
        "cellView": "form",
        "id": "xRV6zdtPLxWs"
      },
      "source": [
        "Ursache = \"With this, the generated data are completely independent of the weights and biases \" #@param {type:\"string\"}\n"
      ],
      "execution_count": null,
      "outputs": []
    },
    {
      "cell_type": "code",
      "metadata": {
        "id": "-aWWFGvxjJD6",
        "colab": {
          "base_uri": "https://localhost:8080/"
        },
        "outputId": "ccf77f25-7156-4115-944a-d04b0a929870"
      },
      "source": [
        "# seed\n",
        "tf.random.set_seed(5678)\n",
        "\n",
        "class MyModel(tf.Module):\n",
        "  def __init__(self, input_size, output_size, **kwargs):\n",
        "    super().__init__(**kwargs)\n",
        "\n",
        "    self.INPUT_SIZE = input_size\n",
        "    self.OUTPUT_SIZE = output_size\n",
        "    self.LAYER_1_OUTPUT_SIZE = 10\n",
        "    self.LAYER_2_OUTPUT_SIZE = 8\n",
        "    \n",
        "    # Aufgabe 2.1 ##############################\n",
        "\n",
        "    self.w1 = tf.Variable(tf.random.normal((self.INPUT_SIZE, self.LAYER_1_OUTPUT_SIZE)), name='w1')\n",
        "    self.b1 = tf.Variable(tf.zeros(self.LAYER_1_OUTPUT_SIZE, dtype=tf.float32), name='b1')\n",
        "\n",
        "    self.w2 = tf.Variable(tf.random.normal((self.LAYER_1_OUTPUT_SIZE, self.LAYER_2_OUTPUT_SIZE)), name='w2')\n",
        "    self.b2 = tf.Variable(tf.zeros(self.LAYER_2_OUTPUT_SIZE, dtype=tf.float32), name='b2')\n",
        "\n",
        "    self.w3 = tf.Variable(tf.random.normal((self.LAYER_2_OUTPUT_SIZE, self.OUTPUT_SIZE)), name='w3')\n",
        "    self.b3 = tf.Variable(tf.zeros(self.OUTPUT_SIZE, dtype=tf.float32), name='b3')\n",
        "\n",
        "    ############################## Aufgabe 2.1 #\n",
        "\n",
        "\n",
        "  # Aufgabe 2.2 ##############################\n",
        "  def __call__(self, x):\n",
        "     \n",
        "     # Code Aufgabe 2.2 hier\n",
        "\n",
        "    x_1 = tanh(x @ self.w1 + self.b1)\n",
        "    x_2 = tanh(x_1 @ self.w2 + self.b2)\n",
        "    x_out = x_2 @ self.w3 + self.b3\n",
        "    return x_out\n",
        "\n",
        "    \n",
        "    return x_out\n",
        "  ############################## Aufgabe 2.2 #\n",
        "\n",
        "\n",
        "# Aufgabe 2.3 ##############################\n",
        "model = MyModel(5,1)\n",
        "# Verify the model works\n",
        "print(model(x).numpy())\n",
        "############################## Aufgabe 2.3 #\n",
        "\n",
        "\n",
        "# Aufgabe 2.4 ##############################\n",
        "# List the variables tf.modules's built-in variable aggregation.\n",
        "for var in model.variables:\n",
        "  print(\"Variable:\", var.name, var.shape)\n",
        "\n",
        "############################## Aufgabe 2.4 #\n",
        "\n",
        "\n"
      ],
      "execution_count": null,
      "outputs": [
        {
          "output_type": "stream",
          "text": [
            "[[-8.58749986e-01]\n",
            " [ 1.31477737e+00]\n",
            " [ 3.63991559e-01]\n",
            " [-1.20554996e+00]\n",
            " [ 1.37978220e+00]\n",
            " [ 9.03165638e-01]\n",
            " [ 2.47318864e+00]\n",
            " [ 1.99211359e+00]\n",
            " [ 1.33214211e+00]\n",
            " [-7.32538223e-01]\n",
            " [-1.95712614e+00]\n",
            " [ 1.30829227e+00]\n",
            " [-8.92019510e-01]\n",
            " [-9.97414589e-01]\n",
            " [-1.77908897e+00]\n",
            " [-2.06710577e+00]\n",
            " [ 1.63948488e+00]\n",
            " [ 1.97358882e+00]\n",
            " [-1.38302064e+00]\n",
            " [-9.73970175e-01]\n",
            " [ 4.00444835e-01]\n",
            " [-1.68196261e+00]\n",
            " [-2.07866955e+00]\n",
            " [ 2.06999826e+00]\n",
            " [-4.13087845e-01]\n",
            " [ 1.38423991e+00]\n",
            " [ 8.23145032e-01]\n",
            " [ 2.35481524e+00]\n",
            " [-1.06866193e+00]\n",
            " [-1.37312222e+00]\n",
            " [-1.33014011e+00]\n",
            " [-1.17862582e+00]\n",
            " [-1.96343625e+00]\n",
            " [-1.66161370e+00]\n",
            " [-1.42303443e+00]\n",
            " [ 1.44598007e-01]\n",
            " [-5.91014624e-01]\n",
            " [ 1.32053018e+00]\n",
            " [ 6.26714975e-02]\n",
            " [-2.37889826e-01]\n",
            " [ 1.68964756e+00]\n",
            " [ 1.35301614e+00]\n",
            " [-2.38522339e+00]\n",
            " [-1.23086190e+00]\n",
            " [ 3.04931939e-01]\n",
            " [ 1.39980078e+00]\n",
            " [-2.29747105e+00]\n",
            " [-1.26634502e+00]\n",
            " [ 5.98493993e-01]\n",
            " [-2.01882267e+00]\n",
            " [ 2.66856074e-01]\n",
            " [ 2.05842304e+00]\n",
            " [ 2.11562324e+00]\n",
            " [-1.72956944e+00]\n",
            " [-1.44638586e+00]\n",
            " [-7.10543334e-01]\n",
            " [-1.68563008e+00]\n",
            " [ 8.65476727e-02]\n",
            " [-2.19629526e-01]\n",
            " [-1.03270531e+00]\n",
            " [ 1.31667233e+00]\n",
            " [-4.66428757e-01]\n",
            " [-1.39281917e+00]\n",
            " [-1.84239626e+00]\n",
            " [-2.55593252e+00]\n",
            " [ 8.94997358e-01]\n",
            " [ 1.33101118e+00]\n",
            " [-1.27132773e+00]\n",
            " [-1.40690374e+00]\n",
            " [-1.56085324e+00]\n",
            " [ 1.13307297e-01]\n",
            " [-9.90262628e-01]\n",
            " [ 4.38505083e-01]\n",
            " [-7.70262480e-01]\n",
            " [ 1.87627316e+00]\n",
            " [ 1.75558090e+00]\n",
            " [-2.15548754e+00]\n",
            " [ 2.10414457e+00]\n",
            " [ 1.35097528e+00]\n",
            " [-1.37454271e+00]\n",
            " [ 7.09429979e-02]\n",
            " [ 8.82724285e-01]\n",
            " [-2.09898591e+00]\n",
            " [ 1.69594872e+00]\n",
            " [-1.39358401e+00]\n",
            " [-1.43485594e+00]\n",
            " [ 2.40784049e+00]\n",
            " [ 7.47409225e-01]\n",
            " [ 2.28379154e+00]\n",
            " [-2.17018938e+00]\n",
            " [ 1.64632010e+00]\n",
            " [ 1.04007769e+00]\n",
            " [-1.70535445e-02]\n",
            " [ 7.89959073e-01]\n",
            " [ 1.07017982e+00]\n",
            " [ 1.60572410e+00]\n",
            " [-3.05121452e-01]\n",
            " [-9.74400043e-02]\n",
            " [ 1.32301807e+00]\n",
            " [ 3.31041574e-01]\n",
            " [-4.59704161e-01]\n",
            " [-7.52740145e-01]\n",
            " [ 1.63257289e+00]\n",
            " [-3.48342121e-01]\n",
            " [ 1.53047180e+00]\n",
            " [ 4.61402535e-01]\n",
            " [ 5.36948562e-01]\n",
            " [ 2.16324925e+00]\n",
            " [ 1.96882987e+00]\n",
            " [ 3.99011374e-02]\n",
            " [ 1.54227138e+00]\n",
            " [ 1.40942693e+00]\n",
            " [-1.42436087e+00]\n",
            " [-1.11520743e+00]\n",
            " [ 1.79047310e+00]\n",
            " [-1.73916459e+00]\n",
            " [ 1.64581120e-01]\n",
            " [ 1.78461027e+00]\n",
            " [-7.62694001e-01]\n",
            " [ 4.02683556e-01]\n",
            " [-1.14884281e+00]\n",
            " [ 7.66081035e-01]\n",
            " [ 1.23252296e+00]\n",
            " [-9.76743817e-01]\n",
            " [ 4.58797395e-01]\n",
            " [-3.07035893e-01]\n",
            " [-1.38495159e+00]\n",
            " [-8.88232052e-01]\n",
            " [ 1.37525749e+00]\n",
            " [-2.38296652e+00]\n",
            " [ 2.16081333e+00]\n",
            " [-1.19721323e-01]\n",
            " [-1.24908197e+00]\n",
            " [-1.00269449e+00]\n",
            " [-2.20760655e+00]\n",
            " [ 7.32078373e-01]\n",
            " [ 1.54214430e+00]\n",
            " [ 1.00685000e+00]\n",
            " [-1.02803922e+00]\n",
            " [-1.24693882e+00]\n",
            " [ 6.22353733e-01]\n",
            " [-1.91372067e-01]\n",
            " [ 1.37119079e+00]\n",
            " [ 1.34240043e+00]\n",
            " [ 1.76846623e+00]\n",
            " [ 1.55774641e+00]\n",
            " [ 1.80081594e+00]\n",
            " [ 1.90107226e+00]\n",
            " [-5.24740934e-01]\n",
            " [-1.59508276e+00]\n",
            " [-6.33731484e-01]\n",
            " [-1.63705802e+00]\n",
            " [ 7.68186927e-01]\n",
            " [-1.43914294e+00]\n",
            " [ 1.72392166e+00]\n",
            " [ 5.58462441e-01]\n",
            " [-1.53917170e+00]\n",
            " [-1.73529994e+00]\n",
            " [ 7.31859803e-01]\n",
            " [-9.17808056e-01]\n",
            " [-8.61912906e-01]\n",
            " [-1.75933790e+00]\n",
            " [-1.36166406e+00]\n",
            " [ 8.00083041e-01]\n",
            " [-1.74086690e+00]\n",
            " [-1.01369953e+00]\n",
            " [-1.51440430e+00]\n",
            " [ 1.23930573e+00]\n",
            " [ 1.03693020e+00]\n",
            " [ 1.45960093e+00]\n",
            " [-1.46107757e+00]\n",
            " [ 5.91865778e-02]\n",
            " [ 1.20521355e+00]\n",
            " [-1.39462018e+00]\n",
            " [ 1.74427533e+00]\n",
            " [-8.55093122e-01]\n",
            " [-1.17425525e+00]\n",
            " [-9.48435605e-01]\n",
            " [-1.20414734e+00]\n",
            " [-5.88400841e-01]\n",
            " [-1.77295971e+00]\n",
            " [ 1.50218832e+00]\n",
            " [ 1.52804494e+00]\n",
            " [-1.61490631e+00]\n",
            " [ 2.05304193e+00]\n",
            " [-1.06779432e+00]\n",
            " [-1.53487921e-01]\n",
            " [ 1.27472258e+00]\n",
            " [ 2.26834941e+00]\n",
            " [-1.39164484e+00]\n",
            " [ 2.31863901e-01]\n",
            " [-3.22526574e-01]\n",
            " [-1.46820045e+00]\n",
            " [ 2.38480258e+00]\n",
            " [ 8.67658019e-01]\n",
            " [-1.33549106e+00]\n",
            " [ 4.58432794e-01]\n",
            " [ 1.07505929e+00]\n",
            " [ 8.62838089e-01]\n",
            " [ 8.83739889e-01]\n",
            " [-5.96968174e-01]\n",
            " [-1.29619324e+00]\n",
            " [-1.94624305e-01]\n",
            " [ 7.50359297e-01]\n",
            " [-1.70807338e+00]\n",
            " [-1.44431126e+00]\n",
            " [ 1.57079911e+00]\n",
            " [-7.59985030e-01]\n",
            " [ 1.46660161e+00]\n",
            " [-1.64732802e+00]\n",
            " [ 1.55303717e+00]\n",
            " [ 1.28596067e+00]\n",
            " [-4.12418962e-01]\n",
            " [-1.68448424e+00]\n",
            " [-1.80687797e+00]\n",
            " [-7.48910904e-02]\n",
            " [ 8.97570431e-01]\n",
            " [ 1.95692742e+00]\n",
            " [ 4.62945044e-01]\n",
            " [-3.73498976e-01]\n",
            " [ 7.43921995e-01]\n",
            " [ 1.22032726e+00]\n",
            " [-1.47108936e+00]\n",
            " [ 1.16441798e+00]\n",
            " [-1.27391267e+00]\n",
            " [ 1.85905123e+00]\n",
            " [-1.37699139e+00]\n",
            " [ 1.43166518e+00]\n",
            " [-1.19286942e+00]\n",
            " [ 1.48915029e+00]\n",
            " [ 9.51648653e-02]\n",
            " [ 1.93993759e+00]\n",
            " [-1.27143383e+00]\n",
            " [-1.55389380e+00]\n",
            " [-2.08182907e+00]\n",
            " [-1.50525868e+00]\n",
            " [-1.22463202e+00]\n",
            " [-1.28613639e+00]\n",
            " [ 1.97182882e+00]\n",
            " [ 2.33914900e+00]\n",
            " [-1.06942821e+00]\n",
            " [-9.32006538e-02]\n",
            " [ 2.79326582e+00]\n",
            " [-1.64632344e+00]\n",
            " [-1.03925169e+00]\n",
            " [ 1.03035784e+00]\n",
            " [-7.59951174e-01]\n",
            " [-2.45420837e+00]\n",
            " [-1.35163963e+00]\n",
            " [-1.67299902e+00]\n",
            " [ 1.96774411e+00]\n",
            " [ 5.90624332e-01]\n",
            " [-1.56247389e+00]\n",
            " [-1.13193226e+00]\n",
            " [-8.33977342e-01]\n",
            " [-2.67987537e+00]\n",
            " [ 9.37076569e-01]\n",
            " [ 1.35039067e+00]\n",
            " [ 2.05124664e+00]\n",
            " [ 1.37087977e+00]\n",
            " [-2.38396347e-01]\n",
            " [ 1.27641535e+00]\n",
            " [-1.24719787e+00]\n",
            " [-1.78621972e+00]\n",
            " [-7.25354075e-01]\n",
            " [-8.51042688e-01]\n",
            " [ 5.13711274e-01]\n",
            " [-4.56643760e-01]\n",
            " [-4.26162809e-01]\n",
            " [-3.81421566e-01]\n",
            " [-1.43708336e+00]\n",
            " [ 3.99117053e-01]\n",
            " [-6.55205131e-01]\n",
            " [ 1.13844216e+00]\n",
            " [-1.58661437e+00]\n",
            " [-8.05811763e-01]\n",
            " [ 1.67833948e+00]\n",
            " [ 1.71244240e+00]\n",
            " [-1.15943623e+00]\n",
            " [ 9.46837783e-01]\n",
            " [ 9.10353482e-01]\n",
            " [-2.76252460e+00]\n",
            " [-6.71388984e-01]\n",
            " [-1.12318659e+00]\n",
            " [ 1.85297728e-02]\n",
            " [-1.24056065e+00]\n",
            " [ 9.12243485e-01]\n",
            " [-7.72307217e-02]\n",
            " [-6.92693949e-01]\n",
            " [ 1.71832585e+00]\n",
            " [ 1.12547326e+00]\n",
            " [-7.31980801e-03]\n",
            " [-3.95045817e-01]\n",
            " [ 1.26348448e+00]\n",
            " [-1.17965007e+00]\n",
            " [-2.38622618e+00]\n",
            " [ 1.07894683e+00]\n",
            " [ 3.08093607e-01]\n",
            " [ 6.64782882e-01]\n",
            " [ 1.11574972e+00]\n",
            " [-4.76400703e-01]\n",
            " [ 1.71971369e+00]\n",
            " [-4.85425889e-01]\n",
            " [-1.34734976e+00]\n",
            " [-1.46437156e+00]\n",
            " [-9.19131041e-01]\n",
            " [-8.84455681e-01]\n",
            " [-1.87518477e+00]\n",
            " [ 1.65721297e+00]\n",
            " [ 1.47979116e+00]\n",
            " [ 1.58853859e-01]\n",
            " [ 2.02255607e-01]\n",
            " [-1.77433944e+00]\n",
            " [-1.92061448e+00]\n",
            " [ 7.59443820e-01]\n",
            " [-7.96443403e-01]\n",
            " [ 1.14689827e-01]\n",
            " [-1.26936686e+00]\n",
            " [ 1.31442046e+00]\n",
            " [-6.12401962e-01]\n",
            " [-2.80526590e+00]\n",
            " [ 1.78518534e+00]\n",
            " [-1.42139363e+00]\n",
            " [ 1.53923559e+00]\n",
            " [-2.41008306e+00]\n",
            " [-7.06908882e-01]\n",
            " [-2.62111115e+00]\n",
            " [-8.87507081e-01]\n",
            " [-1.47606397e+00]\n",
            " [ 1.64688849e+00]\n",
            " [-2.33398867e+00]\n",
            " [-7.77996421e-01]\n",
            " [-2.45719686e-01]\n",
            " [-3.82264942e-01]\n",
            " [-7.72564411e-01]\n",
            " [-6.40829086e-01]\n",
            " [ 2.55484200e+00]\n",
            " [-4.43404764e-01]\n",
            " [ 4.24964994e-01]\n",
            " [-1.29067039e+00]\n",
            " [-1.49797511e+00]\n",
            " [-1.47625780e+00]\n",
            " [-8.41975629e-01]\n",
            " [-4.75206375e-01]\n",
            " [ 1.84641552e+00]\n",
            " [ 1.29082251e+00]\n",
            " [ 1.59036684e+00]\n",
            " [ 8.49891543e-01]\n",
            " [ 2.13993406e+00]\n",
            " [ 2.33504474e-01]\n",
            " [-1.35966015e+00]\n",
            " [-1.87782574e+00]\n",
            " [-7.43466616e-01]\n",
            " [ 2.26115316e-01]\n",
            " [ 9.24652874e-01]\n",
            " [-1.17579651e+00]\n",
            " [-9.90158260e-01]\n",
            " [-1.33739495e+00]\n",
            " [ 1.29187369e+00]\n",
            " [-1.47590685e+00]\n",
            " [-9.45207477e-01]\n",
            " [-1.66084659e+00]\n",
            " [-1.08023739e+00]\n",
            " [-1.34104991e+00]\n",
            " [-2.69681633e-01]\n",
            " [-1.73300755e+00]\n",
            " [ 1.56264043e+00]\n",
            " [ 1.06301904e-01]\n",
            " [-9.05148029e-01]\n",
            " [ 3.79448682e-01]\n",
            " [-1.71481371e+00]\n",
            " [-1.18869615e+00]\n",
            " [ 3.79985869e-01]\n",
            " [ 8.27373266e-01]\n",
            " [-1.23698545e+00]\n",
            " [-2.22947884e+00]\n",
            " [ 1.46736622e+00]\n",
            " [-3.84285659e-01]\n",
            " [ 4.62576568e-01]\n",
            " [ 1.82488525e+00]\n",
            " [-1.66733694e+00]\n",
            " [ 1.63663721e+00]\n",
            " [ 1.22357440e+00]\n",
            " [-9.77847338e-01]\n",
            " [-9.03959811e-01]\n",
            " [ 6.12388432e-01]\n",
            " [-4.62941855e-01]\n",
            " [ 5.91861159e-02]\n",
            " [-2.01800513e+00]\n",
            " [-9.95522738e-03]\n",
            " [-1.54893041e-01]\n",
            " [ 2.52129602e+00]\n",
            " [ 1.27649999e+00]\n",
            " [ 1.06745601e+00]\n",
            " [-1.09490550e+00]\n",
            " [ 1.53351471e-01]\n",
            " [ 1.46136522e+00]\n",
            " [ 8.21457565e-01]\n",
            " [ 9.03196454e-01]\n",
            " [ 2.70791602e+00]\n",
            " [-1.24226093e-01]\n",
            " [ 1.11622274e+00]\n",
            " [-1.27981961e-01]\n",
            " [-1.25834167e+00]\n",
            " [ 1.59192061e+00]\n",
            " [-1.63427973e+00]\n",
            " [ 4.65755731e-01]\n",
            " [-5.40531337e-01]\n",
            " [ 2.18634415e+00]\n",
            " [-1.20060205e+00]\n",
            " [ 6.89494610e-02]\n",
            " [ 9.63596106e-01]\n",
            " [-1.89362216e+00]\n",
            " [ 1.19771171e+00]\n",
            " [ 1.16576970e-01]\n",
            " [ 2.10749006e+00]\n",
            " [-2.21992779e+00]\n",
            " [ 2.36342478e+00]\n",
            " [-1.30327702e+00]\n",
            " [ 1.47390032e+00]\n",
            " [-1.25461781e+00]\n",
            " [ 1.62875450e+00]\n",
            " [-3.00923228e-01]\n",
            " [ 3.61164302e-01]\n",
            " [ 7.91390538e-01]\n",
            " [ 2.60924369e-01]\n",
            " [ 1.11942828e+00]\n",
            " [ 9.80872512e-02]\n",
            " [-1.83529747e+00]\n",
            " [ 2.23515511e+00]\n",
            " [-5.64606786e-01]\n",
            " [-1.67461395e+00]\n",
            " [-9.80664849e-01]\n",
            " [-5.81679702e-01]\n",
            " [-1.21146345e+00]\n",
            " [-1.07136893e+00]\n",
            " [ 1.94712472e+00]\n",
            " [ 1.28500748e+00]\n",
            " [ 1.68834698e+00]\n",
            " [ 1.74142241e+00]\n",
            " [ 7.44472861e-01]\n",
            " [ 1.34343350e+00]\n",
            " [-1.18738043e+00]\n",
            " [-8.72871876e-01]\n",
            " [ 1.57687640e+00]\n",
            " [-2.85565853e-03]\n",
            " [-1.20278645e+00]\n",
            " [ 2.07323933e+00]\n",
            " [ 1.52014685e+00]\n",
            " [ 9.61915970e-01]\n",
            " [-1.36530280e+00]\n",
            " [-2.04608893e+00]\n",
            " [-2.64449000e+00]\n",
            " [-1.79189408e+00]\n",
            " [-1.69185710e+00]\n",
            " [ 9.96435940e-01]\n",
            " [-1.22114229e+00]\n",
            " [ 1.28075480e+00]\n",
            " [-1.10840786e+00]\n",
            " [-2.09175968e+00]\n",
            " [-1.64944637e+00]\n",
            " [ 7.15689063e-01]\n",
            " [ 2.09333420e+00]\n",
            " [-1.49042928e+00]\n",
            " [-4.59631801e-01]\n",
            " [-1.35727572e+00]\n",
            " [-1.31838775e+00]\n",
            " [-2.14976501e+00]\n",
            " [ 5.37252069e-01]\n",
            " [-9.54687357e-01]\n",
            " [ 2.29109430e+00]\n",
            " [ 9.50611770e-01]\n",
            " [ 6.53244257e-01]\n",
            " [ 1.63977712e-01]\n",
            " [-1.22019231e-01]\n",
            " [ 1.10264957e+00]\n",
            " [-1.10753250e+00]\n",
            " [-4.00892615e-01]\n",
            " [ 2.04920650e+00]\n",
            " [ 1.05630934e-01]\n",
            " [-8.95616651e-01]\n",
            " [-5.26203752e-01]\n",
            " [ 1.74377751e+00]\n",
            " [ 1.49424124e+00]\n",
            " [ 1.64056718e+00]\n",
            " [-1.91456008e+00]\n",
            " [ 3.79022360e-02]\n",
            " [ 2.22299075e+00]\n",
            " [ 4.59167957e-01]\n",
            " [-3.08733821e-01]\n",
            " [ 1.50655830e+00]\n",
            " [ 1.66559243e+00]\n",
            " [ 2.28925037e+00]\n",
            " [ 1.43252659e+00]\n",
            " [-1.32214737e+00]\n",
            " [ 1.34095657e+00]\n",
            " [-1.28643322e+00]\n",
            " [ 1.11534691e+00]\n",
            " [ 9.41564679e-01]\n",
            " [-1.28285646e+00]\n",
            " [ 1.81136417e+00]\n",
            " [ 8.63871932e-01]\n",
            " [-2.18417138e-01]\n",
            " [-7.18416750e-01]\n",
            " [ 1.96025801e+00]\n",
            " [ 5.01250148e-01]\n",
            " [ 1.47835493e+00]\n",
            " [ 2.52858448e+00]\n",
            " [-1.78215861e+00]\n",
            " [-1.97928262e+00]\n",
            " [-2.20802021e+00]\n",
            " [ 1.85205555e+00]\n",
            " [ 1.68001533e+00]\n",
            " [ 1.31119847e+00]\n",
            " [-5.75553298e-01]\n",
            " [-1.30595469e+00]\n",
            " [ 1.50985384e+00]\n",
            " [-1.48418516e-01]\n",
            " [ 8.64380658e-01]\n",
            " [-8.53682041e-01]\n",
            " [-1.47219539e+00]\n",
            " [-2.53300428e+00]\n",
            " [ 9.11351800e-01]\n",
            " [-2.41361952e+00]\n",
            " [ 1.59036040e+00]\n",
            " [ 1.14689684e+00]\n",
            " [-2.23910952e+00]\n",
            " [ 9.96924520e-01]\n",
            " [ 1.17537320e-01]\n",
            " [ 1.21400023e+00]\n",
            " [ 8.76372099e-01]\n",
            " [-1.46446168e+00]\n",
            " [-1.44568634e+00]\n",
            " [ 1.58390725e+00]\n",
            " [-1.35083318e+00]\n",
            " [-7.25641906e-01]\n",
            " [ 1.23539948e+00]\n",
            " [-1.46304548e-01]\n",
            " [-4.47936684e-01]\n",
            " [ 6.20047510e-01]\n",
            " [-1.78203154e+00]\n",
            " [ 1.04982626e+00]\n",
            " [-1.20802462e+00]\n",
            " [-1.27281117e+00]\n",
            " [ 1.01510334e+00]\n",
            " [-7.70200849e-01]\n",
            " [ 1.20697463e+00]\n",
            " [-1.47258484e+00]\n",
            " [-5.87875068e-01]\n",
            " [-8.08769643e-01]\n",
            " [ 1.20325029e+00]\n",
            " [-7.92490959e-01]\n",
            " [ 2.18287516e+00]\n",
            " [ 1.58919597e+00]\n",
            " [-5.15535355e-01]\n",
            " [-1.71244788e+00]\n",
            " [-2.53733706e+00]\n",
            " [-7.29432702e-03]\n",
            " [-1.22774208e+00]\n",
            " [-1.49779260e+00]\n",
            " [-2.73458242e-01]\n",
            " [ 2.58742142e+00]\n",
            " [-3.26407552e-01]\n",
            " [ 1.61299491e+00]\n",
            " [-1.26329172e+00]\n",
            " [-1.65586066e+00]\n",
            " [ 2.46568346e+00]\n",
            " [-1.66621363e+00]\n",
            " [ 1.71257973e+00]\n",
            " [ 7.04639673e-01]\n",
            " [ 2.22717977e+00]\n",
            " [-1.06124437e+00]\n",
            " [ 1.45910096e+00]\n",
            " [ 1.83835351e+00]\n",
            " [-1.90278637e+00]\n",
            " [-1.14224821e-01]\n",
            " [-9.16776359e-01]\n",
            " [-9.89818811e-01]\n",
            " [-1.43340015e+00]\n",
            " [-2.35043168e+00]\n",
            " [-8.08254480e-02]\n",
            " [ 1.90531516e+00]\n",
            " [-1.24040127e+00]\n",
            " [ 9.26198781e-01]\n",
            " [ 8.22230577e-01]\n",
            " [-9.39902544e-01]\n",
            " [-3.29954624e-01]\n",
            " [-1.34857923e-01]\n",
            " [ 6.66500449e-01]\n",
            " [ 6.46962881e-01]\n",
            " [-3.80385220e-02]\n",
            " [ 1.69644547e+00]\n",
            " [-1.55142903e+00]\n",
            " [-1.83984947e+00]\n",
            " [ 1.74073148e+00]\n",
            " [-1.17155147e+00]\n",
            " [-1.69657719e+00]\n",
            " [-1.87230706e-02]\n",
            " [ 1.72544885e+00]\n",
            " [ 6.47025228e-01]\n",
            " [ 1.77657568e+00]\n",
            " [-5.19936085e-01]\n",
            " [ 1.90367329e+00]\n",
            " [ 1.29050875e+00]\n",
            " [ 1.14001083e+00]\n",
            " [ 6.62749529e-01]\n",
            " [ 1.99789965e+00]\n",
            " [ 1.30969095e+00]\n",
            " [ 7.76649714e-02]\n",
            " [ 1.69605780e+00]\n",
            " [ 8.38781774e-01]\n",
            " [-1.14434338e+00]\n",
            " [ 2.60743523e+00]\n",
            " [-1.07645774e+00]\n",
            " [-1.54354811e+00]\n",
            " [-2.02945852e+00]\n",
            " [ 4.53362674e-01]\n",
            " [ 1.12791157e+00]\n",
            " [ 1.39959431e+00]\n",
            " [ 2.24744701e+00]\n",
            " [-1.23629880e+00]\n",
            " [ 7.64590979e-01]\n",
            " [ 1.18725777e-01]\n",
            " [-4.48437363e-01]\n",
            " [ 1.98078811e+00]\n",
            " [-1.98868930e+00]\n",
            " [-5.62101126e-01]\n",
            " [-6.87483132e-01]\n",
            " [ 1.23064470e+00]\n",
            " [ 5.08081257e-01]\n",
            " [ 1.78926635e+00]\n",
            " [ 1.41822147e+00]\n",
            " [-1.31521583e+00]\n",
            " [ 1.55595326e+00]\n",
            " [-9.97008085e-01]\n",
            " [-2.63146830e+00]\n",
            " [ 9.96196866e-01]\n",
            " [-1.43293285e+00]\n",
            " [ 1.57385528e+00]\n",
            " [ 7.23241627e-01]\n",
            " [-1.89125133e+00]\n",
            " [ 1.35398054e+00]\n",
            " [ 8.34764957e-01]\n",
            " [ 1.57191133e+00]\n",
            " [ 1.51749647e+00]\n",
            " [ 4.77774143e-01]\n",
            " [-1.67387497e+00]\n",
            " [ 7.90843070e-01]\n",
            " [-1.26492333e+00]\n",
            " [ 1.71820545e+00]\n",
            " [-2.97644830e+00]\n",
            " [-1.68662727e+00]\n",
            " [ 2.31800377e-01]\n",
            " [-1.56308877e+00]\n",
            " [-1.49503410e-01]\n",
            " [ 1.30333233e+00]\n",
            " [ 1.49071300e+00]\n",
            " [-1.41078901e+00]\n",
            " [-1.53837109e+00]\n",
            " [-9.80698705e-01]\n",
            " [ 1.83716655e+00]\n",
            " [-1.04967189e+00]\n",
            " [ 4.65971410e-01]\n",
            " [ 2.31968117e+00]\n",
            " [ 1.47659087e+00]\n",
            " [ 3.16888571e-01]\n",
            " [-1.05178022e+00]\n",
            " [-2.45054960e-01]\n",
            " [-1.23325610e+00]\n",
            " [-1.99102163e-01]\n",
            " [ 1.45126390e+00]\n",
            " [-1.51439142e+00]\n",
            " [ 1.60195994e+00]\n",
            " [ 9.64993238e-01]\n",
            " [-2.69982994e-01]\n",
            " [-1.21399045e+00]\n",
            " [ 1.08184624e+00]\n",
            " [ 2.51265717e+00]\n",
            " [-1.02757692e+00]\n",
            " [ 1.50801229e+00]\n",
            " [ 1.33076453e+00]\n",
            " [-1.31947160e+00]\n",
            " [ 1.00920677e+00]\n",
            " [ 1.34721458e+00]\n",
            " [-2.77971148e-01]\n",
            " [-8.04264307e-01]\n",
            " [-1.30012715e+00]\n",
            " [-7.87414253e-01]\n",
            " [ 8.23780060e-01]\n",
            " [-1.19924831e+00]\n",
            " [-1.35656834e+00]\n",
            " [ 2.16869187e+00]\n",
            " [-3.46250683e-01]\n",
            " [-7.84312189e-01]\n",
            " [-7.65098691e-01]\n",
            " [ 1.72714245e+00]\n",
            " [ 1.09441078e+00]\n",
            " [ 1.63245249e+00]\n",
            " [-1.99002242e+00]\n",
            " [ 1.70437217e+00]\n",
            " [-1.62124944e+00]\n",
            " [ 1.61070955e+00]\n",
            " [-8.39338660e-01]\n",
            " [-1.18860674e+00]\n",
            " [-1.09030402e+00]\n",
            " [-1.24199343e+00]\n",
            " [-1.15806341e-01]\n",
            " [ 1.15448689e+00]\n",
            " [ 2.05934787e+00]\n",
            " [-1.48583198e+00]\n",
            " [ 1.15874588e-01]\n",
            " [-6.01608902e-02]\n",
            " [ 9.99683738e-01]\n",
            " [-6.12008631e-01]\n",
            " [-1.64375484e+00]\n",
            " [-1.08083463e+00]\n",
            " [-1.49626851e+00]\n",
            " [-1.24040413e+00]\n",
            " [ 3.56119394e-01]\n",
            " [-1.36098003e+00]\n",
            " [ 1.16524267e+00]\n",
            " [ 2.31649494e+00]\n",
            " [-8.51813555e-01]\n",
            " [ 3.23312354e+00]\n",
            " [-2.41796827e+00]\n",
            " [ 1.55538344e+00]\n",
            " [ 2.66536117e+00]\n",
            " [-1.38271880e+00]\n",
            " [-1.19223082e+00]\n",
            " [ 1.58095193e+00]\n",
            " [-1.53490019e+00]\n",
            " [ 1.43847609e+00]\n",
            " [ 4.88356948e-02]\n",
            " [ 1.01252127e+00]\n",
            " [-7.95949817e-01]\n",
            " [ 7.35192060e-01]\n",
            " [-2.18008471e+00]\n",
            " [-1.02811754e+00]\n",
            " [-4.85834122e-01]\n",
            " [-4.07967001e-01]\n",
            " [ 1.48313940e+00]\n",
            " [ 1.33285451e+00]\n",
            " [-8.45709860e-01]\n",
            " [ 1.27192533e+00]\n",
            " [-1.61352158e+00]\n",
            " [ 4.29614484e-01]\n",
            " [ 2.42804527e+00]\n",
            " [ 2.23304248e+00]\n",
            " [-5.44734716e-01]\n",
            " [-1.51781046e+00]\n",
            " [ 6.29248321e-01]\n",
            " [-1.07023096e+00]\n",
            " [ 2.73648620e-01]\n",
            " [-1.64491534e-02]\n",
            " [-1.24387133e+00]\n",
            " [-1.21869683e+00]\n",
            " [-1.77255321e+00]\n",
            " [-5.41131258e-01]\n",
            " [-9.29869592e-01]\n",
            " [ 1.53214169e+00]\n",
            " [ 1.86108053e-02]\n",
            " [-1.58249688e+00]\n",
            " [ 1.62715054e+00]\n",
            " [-9.83903050e-01]\n",
            " [-2.61067033e-01]\n",
            " [ 1.23006380e+00]\n",
            " [ 1.41740131e+00]\n",
            " [ 1.07622516e+00]\n",
            " [-2.18187094e+00]\n",
            " [-8.34008574e-01]\n",
            " [-1.57351172e+00]\n",
            " [-2.39654064e+00]\n",
            " [ 1.41526008e+00]\n",
            " [-1.00613177e+00]\n",
            " [ 1.49901342e+00]\n",
            " [ 1.18270206e+00]\n",
            " [ 2.84591377e-01]\n",
            " [ 1.39689112e+00]\n",
            " [-1.85355783e+00]\n",
            " [-1.13958466e+00]\n",
            " [ 1.26451898e+00]\n",
            " [-1.29405379e+00]\n",
            " [-1.35603309e+00]\n",
            " [-9.18800175e-01]\n",
            " [ 2.25790203e-01]\n",
            " [ 9.73164082e-01]\n",
            " [ 1.91651434e-01]\n",
            " [-1.18511808e+00]\n",
            " [ 5.65006495e-01]\n",
            " [-5.25520742e-01]\n",
            " [-1.23250413e+00]\n",
            " [-2.32105756e+00]\n",
            " [-2.94934034e+00]\n",
            " [ 1.15000904e+00]\n",
            " [-1.42729902e+00]\n",
            " [-1.48535848e+00]\n",
            " [ 1.93166280e+00]\n",
            " [-1.85711122e+00]\n",
            " [ 7.16619134e-01]\n",
            " [ 2.14093626e-01]\n",
            " [-1.63908315e+00]\n",
            " [-3.11605245e-01]\n",
            " [ 1.39691544e+00]\n",
            " [-1.91717601e+00]\n",
            " [-1.66415370e+00]\n",
            " [-9.67375636e-01]\n",
            " [-1.66930521e+00]\n",
            " [-8.63832831e-01]\n",
            " [ 9.83534455e-01]\n",
            " [ 2.18686247e+00]\n",
            " [ 5.14905691e-01]\n",
            " [ 1.70487261e+00]\n",
            " [ 1.81439435e+00]\n",
            " [-1.29593349e+00]\n",
            " [-1.63805437e+00]\n",
            " [ 1.50351906e+00]\n",
            " [ 3.93719077e-01]\n",
            " [-5.83083034e-02]\n",
            " [-5.41610122e-02]\n",
            " [-1.42053819e+00]\n",
            " [ 1.49979615e+00]\n",
            " [ 7.38022447e-01]\n",
            " [ 1.30691135e+00]\n",
            " [ 1.33951139e+00]\n",
            " [-1.67238450e+00]\n",
            " [ 1.42124653e+00]\n",
            " [-1.08354199e+00]\n",
            " [-3.66396874e-01]\n",
            " [-1.47995722e+00]\n",
            " [ 2.05653620e+00]\n",
            " [ 3.18499804e-01]\n",
            " [ 3.59843075e-01]\n",
            " [-1.99120736e+00]\n",
            " [ 2.45320654e+00]\n",
            " [ 8.74390125e-01]\n",
            " [ 1.03245258e+00]\n",
            " [-4.26835656e-01]\n",
            " [ 5.04991829e-01]\n",
            " [-1.52854729e+00]\n",
            " [-1.86206126e+00]\n",
            " [ 1.62607765e+00]\n",
            " [-1.21637678e+00]\n",
            " [ 1.13311267e+00]\n",
            " [ 1.36440086e+00]\n",
            " [-4.61162090e-01]\n",
            " [-5.95849931e-01]\n",
            " [ 4.64873850e-01]\n",
            " [ 1.56784785e+00]\n",
            " [-8.19065094e-01]\n",
            " [-2.02508235e+00]\n",
            " [ 1.10162884e-01]\n",
            " [-1.29348314e+00]\n",
            " [ 1.15419626e+00]\n",
            " [-4.09785032e-01]\n",
            " [-1.21321738e+00]\n",
            " [ 2.47396755e+00]\n",
            " [-1.52376318e+00]\n",
            " [ 1.23724341e+00]\n",
            " [ 1.33308077e+00]\n",
            " [-1.50411272e+00]\n",
            " [-2.57414055e+00]\n",
            " [ 7.35876322e-01]\n",
            " [ 1.21822584e+00]\n",
            " [-1.37770045e+00]\n",
            " [ 1.86756468e+00]\n",
            " [-3.72791529e-01]\n",
            " [-1.05964884e-01]\n",
            " [ 8.67874146e-01]\n",
            " [-1.25399232e-01]\n",
            " [ 7.02073157e-01]\n",
            " [-1.15302563e+00]\n",
            " [ 1.52244341e+00]\n",
            " [-1.05187297e-03]\n",
            " [ 1.59113634e+00]\n",
            " [ 1.50544739e+00]\n",
            " [-1.38440824e+00]\n",
            " [-1.37639451e+00]\n",
            " [-1.04847372e+00]\n",
            " [-1.88997531e+00]\n",
            " [ 1.88391185e+00]\n",
            " [ 1.97160161e+00]\n",
            " [-1.27954340e+00]\n",
            " [-1.54755127e+00]\n",
            " [-9.16855693e-01]\n",
            " [-1.00799656e+00]\n",
            " [-1.04611194e+00]\n",
            " [ 1.51590562e+00]\n",
            " [-1.66066790e+00]\n",
            " [-2.16381860e+00]\n",
            " [ 4.83381748e-01]\n",
            " [ 1.37778509e+00]\n",
            " [ 5.01984239e-01]\n",
            " [ 1.60365152e+00]\n",
            " [-3.84238064e-02]\n",
            " [ 7.05495536e-01]\n",
            " [-2.10323095e+00]\n",
            " [-1.31511402e+00]\n",
            " [-1.44238782e+00]\n",
            " [ 8.64185452e-01]\n",
            " [ 1.59412813e+00]\n",
            " [ 1.16698682e+00]\n",
            " [ 1.05205512e+00]\n",
            " [-1.72104931e+00]\n",
            " [ 1.58556080e+00]\n",
            " [ 1.51822245e+00]\n",
            " [-2.82104731e+00]\n",
            " [-6.53719544e-01]\n",
            " [ 1.18675029e+00]\n",
            " [-1.92117262e+00]\n",
            " [-1.40868556e+00]\n",
            " [-1.79092216e+00]\n",
            " [-1.39728737e+00]\n",
            " [-5.93572378e-01]\n",
            " [ 2.92834592e+00]\n",
            " [-5.31890035e-01]\n",
            " [-1.56575012e+00]\n",
            " [ 2.35059643e+00]\n",
            " [-1.06844342e+00]\n",
            " [-2.75363541e+00]\n",
            " [-1.43125665e+00]\n",
            " [ 8.51593018e-02]\n",
            " [ 2.29287565e-01]\n",
            " [-1.68295419e+00]\n",
            " [-6.20492399e-01]\n",
            " [ 6.00601196e-01]\n",
            " [ 1.62119985e+00]\n",
            " [ 1.03633952e+00]\n",
            " [-7.19343185e-01]\n",
            " [-5.24471223e-01]\n",
            " [-1.44527495e+00]\n",
            " [ 1.41364288e+00]\n",
            " [ 1.09816670e+00]\n",
            " [ 2.30747557e+00]\n",
            " [ 8.65998745e-01]\n",
            " [ 1.82759166e-01]\n",
            " [ 4.48970735e-01]\n",
            " [-2.44842958e+00]\n",
            " [ 5.33748269e-02]\n",
            " [-1.71354389e+00]\n",
            " [-1.14177895e+00]\n",
            " [-1.80503058e+00]\n",
            " [-3.48810375e-01]\n",
            " [ 2.27615762e+00]\n",
            " [-1.11590934e+00]\n",
            " [ 2.47394443e-02]\n",
            " [ 2.93998778e-01]\n",
            " [-1.14478898e+00]\n",
            " [ 7.09539115e-01]\n",
            " [-1.21154785e+00]\n",
            " [-1.10626507e+00]\n",
            " [-2.16725492e+00]\n",
            " [ 2.49981308e+00]\n",
            " [-1.44662666e+00]\n",
            " [-3.97299081e-01]\n",
            " [ 1.33373380e+00]\n",
            " [-1.08177567e+00]\n",
            " [-8.00507545e-01]\n",
            " [-1.51978660e+00]\n",
            " [-7.25603580e-01]\n",
            " [ 1.89544231e-01]\n",
            " [-1.69276381e+00]\n",
            " [ 1.75532842e+00]\n",
            " [ 1.31441045e+00]\n",
            " [ 1.10437453e+00]\n",
            " [-1.40325415e+00]\n",
            " [ 2.12367749e+00]\n",
            " [-1.77865374e+00]\n",
            " [ 7.25818634e-01]\n",
            " [ 2.08556008e+00]\n",
            " [ 1.17174864e+00]\n",
            " [-2.76089668e+00]\n",
            " [ 2.06821203e+00]\n",
            " [-5.70848584e-03]\n",
            " [ 6.14399195e-01]\n",
            " [-1.73666620e+00]\n",
            " [ 1.55674613e+00]\n",
            " [-5.11030138e-01]\n",
            " [ 1.47311008e+00]\n",
            " [-1.42458415e+00]\n",
            " [ 1.87188840e+00]\n",
            " [ 1.41408193e+00]\n",
            " [ 1.59989476e+00]\n",
            " [ 5.32697439e-02]\n",
            " [ 3.94920558e-01]\n",
            " [ 1.19789791e+00]\n",
            " [-4.28168684e-01]\n",
            " [-1.66966259e-01]\n",
            " [ 1.91782975e+00]\n",
            " [ 2.12832618e+00]\n",
            " [-1.49537826e+00]\n",
            " [ 7.25370467e-01]\n",
            " [-1.15701687e+00]\n",
            " [-4.02089715e-01]\n",
            " [-8.83043528e-01]\n",
            " [ 2.34763288e+00]\n",
            " [ 2.18908668e+00]\n",
            " [ 9.34072793e-01]\n",
            " [-1.80963206e+00]\n",
            " [ 8.27521443e-01]\n",
            " [ 9.95218396e-01]]\n",
            "Variable: b1:0 (10,)\n",
            "Variable: b2:0 (8,)\n",
            "Variable: b3:0 (1,)\n",
            "Variable: w1:0 (5, 10)\n",
            "Variable: w2:0 (10, 8)\n",
            "Variable: w3:0 (8, 1)\n"
          ],
          "name": "stdout"
        }
      ]
    },
    {
      "cell_type": "markdown",
      "metadata": {
        "id": "JHVgn5wbSMA9"
      },
      "source": [
        "####**Aufgabe 2.7:** Definieren Sie das Training-Loop für **2000 Epochs**.  Printen Sie die **Epoch Nummer** und den **Loss** alle **100 Epochs**"
      ]
    },
    {
      "cell_type": "markdown",
      "metadata": {
        "id": "JIPOKnMfwhlS"
      },
      "source": [
        "\n",
        "\n",
        "####**Aufgabe 2.8:** Trainieren Sie das Model"
      ]
    },
    {
      "cell_type": "code",
      "metadata": {
        "id": "clybL2zHogM2",
        "colab": {
          "base_uri": "https://localhost:8080/"
        },
        "outputId": "af442635-9660-4669-fc80-0bcfbe2c5d24"
      },
      "source": [
        "from tensorflow.keras.optimizers import Adam\n",
        "\n",
        "opt = Adam(learning_rate=0.01)\n",
        "# This computes a single loss value for an entire batch\n",
        "def loss(target_y, predicted_y):\n",
        "  return tf.reduce_mean(tf.square(target_y - predicted_y))\n",
        "\n",
        "# Given a callable model, inputs, outputs, and a learning rate...\n",
        "def train(model, x, y, learning_rate):\n",
        "\n",
        "  with tf.GradientTape() as t:\n",
        "    # Trainable variables are automatically tracked by GradientTape\n",
        "    current_loss = loss(y, model(x))\n",
        "\n",
        "  # Use GradientTape to calculate the gradients with respect to W and b\n",
        "  grads = t.gradient(current_loss, model.trainable_variables)\n",
        "  opt.apply_gradients(zip(grads, model.trainable_variables))\n",
        "\n",
        "# Init Model\n",
        "model = MyModel(INPUT_SIZE, OUTPUT_SIZE)\n",
        "# Collect the history of W-values and b-values to plot later\n",
        "\n",
        "# Aufgabe 2.7 ##############################\n",
        "epochs = range(2000)\n",
        "# Define a training loop\n",
        "def training_loop(model, x, y):\n",
        "\n",
        "  for epoch in epochs:\n",
        "     # Update the model with the single giant batch\n",
        "    train(model, x, y, learning_rate=0.1)\n",
        "\n",
        "    current_loss = loss(y, model(x))\n",
        "    if (epoch % 100 == 0):\n",
        "      print(\"Epoch %2d: loss=%2.5f\" %\n",
        "          (epoch, current_loss))\n",
        "\n",
        "\n",
        "############################## Aufgabe 2.7 #\n",
        "    \n",
        "# Aufgabe 2.8 ####################\n",
        "# Do the training\n",
        "\n",
        "training_loop(model, x, y)"
      ],
      "execution_count": null,
      "outputs": [
        {
          "output_type": "stream",
          "text": [
            "Epoch  0: loss=48.01633\n",
            "Epoch 100: loss=21.94885\n",
            "Epoch 200: loss=13.15014\n",
            "Epoch 300: loss=7.71759\n",
            "Epoch 400: loss=4.64107\n",
            "Epoch 500: loss=3.25050\n",
            "Epoch 600: loss=2.58602\n",
            "Epoch 700: loss=2.21390\n",
            "Epoch 800: loss=1.97154\n",
            "Epoch 900: loss=1.80127\n",
            "Epoch 1000: loss=1.66842\n",
            "Epoch 1100: loss=1.57218\n",
            "Epoch 1200: loss=1.49004\n",
            "Epoch 1300: loss=1.42588\n",
            "Epoch 1400: loss=1.35181\n",
            "Epoch 1500: loss=1.29470\n",
            "Epoch 1600: loss=1.24684\n",
            "Epoch 1700: loss=1.21354\n",
            "Epoch 1800: loss=1.17352\n",
            "Epoch 1900: loss=1.14382\n"
          ],
          "name": "stdout"
        }
      ]
    },
    {
      "cell_type": "markdown",
      "metadata": {
        "id": "46lr4GajBxey"
      },
      "source": [
        "####**Aufgabe 2.9:** Plotten Sie den Output des trainierten Models **$\\hat{y}_{test}$** vs. **Target Data** für den **Test Dataset**: $\\hat{y}_{test} = model(X_{test}) \\nobreakspace vs. \\nobreakspace y_{test}$"
      ]
    },
    {
      "cell_type": "code",
      "metadata": {
        "id": "OGWejFnSz6Sw",
        "colab": {
          "base_uri": "https://localhost:8080/",
          "height": 265
        },
        "outputId": "1624d70e-6ba3-4896-cc51-8a4b27f72e35"
      },
      "source": [
        "# Aufgabe 2.9\n",
        "# Visualize how the trained model performs\n",
        "plt.scatter(x_test[:, 0], y_test[:, 0], c=\"b\")\n",
        "plt.scatter(x_test[:, 0], model(x_test)[:, 0], c=\"r\")\n",
        "plt.show()"
      ],
      "execution_count": null,
      "outputs": [
        {
          "output_type": "display_data",
          "data": {
            "image/png": "[encoded data removed]",
            "text/plain": [
              "<Figure size 432x288 with 1 Axes>"
            ]
          },
          "metadata": {
            "tags": [],
            "needs_background": "light"
          }
        }
      ]
    },
    {
      "cell_type": "markdown",
      "metadata": {
        "id": "KcDzQuguTC0d"
      },
      "source": [
        "####**Aufgabe 2.10:** Berechnen Sie den Loss für den **Test Dataset**"
      ]
    },
    {
      "cell_type": "code",
      "metadata": {
        "id": "kzcfeFtwOl2N",
        "colab": {
          "base_uri": "https://localhost:8080/"
        },
        "outputId": "2feae8b9-b6e5-4149-9a60-925fc00f2348"
      },
      "source": [
        "# Aufgabe 2.10\n",
        "print(\"Current loss: %1.6f\" % loss(model(x), y).numpy())"
      ],
      "execution_count": null,
      "outputs": [
        {
          "output_type": "stream",
          "text": [
            "Current loss: 1.118439\n"
          ],
          "name": "stdout"
        }
      ]
    },
    {
      "cell_type": "markdown",
      "metadata": {
        "id": "vJ0MEls4z0Np"
      },
      "source": [
        "##**LSTM**"
      ]
    },
    {
      "cell_type": "markdown",
      "metadata": {
        "id": "y5x78TYSVkxv"
      },
      "source": [
        "### Aufgabe 3:"
      ]
    },
    {
      "cell_type": "markdown",
      "metadata": {
        "id": "7IVNTmnZaJQR"
      },
      "source": [
        "Wir wollen jetzt ein LSTM Model auf einem Image-Dataset trainieren."
      ]
    },
    {
      "cell_type": "markdown",
      "metadata": {
        "id": "8wrnEn1vayrA"
      },
      "source": [
        "####**Aufgabe 3.1:** Ist das überhaupt möglich?"
      ]
    },
    {
      "cell_type": "code",
      "metadata": {
        "cellView": "form",
        "id": "OKmEr3_ca9Ln"
      },
      "source": [
        "Antwort = \"ja\" #@param {type:\"string\"}\n"
      ],
      "execution_count": null,
      "outputs": []
    },
    {
      "cell_type": "markdown",
      "metadata": {
        "id": "8uOO5TSmbPwU"
      },
      "source": [
        "####**Aufgabe 3.2:** Ist das optimal?"
      ]
    },
    {
      "cell_type": "code",
      "metadata": {
        "cellView": "form",
        "id": "TjEjWi17bZNU"
      },
      "source": [
        "Antwort = \"nein\" #@param {type:\"string\"}"
      ],
      "execution_count": null,
      "outputs": []
    },
    {
      "cell_type": "markdown",
      "metadata": {
        "id": "yhLlyI4nfylt"
      },
      "source": [
        "####**Aufgabe 3.3:** Bei welcher Art von Image-Daten wäre die Verwendung von LSTM-Layers durchaus angebracht? Bitte, eine am besten geignete Option auswählen."
      ]
    },
    {
      "cell_type": "code",
      "metadata": {
        "id": "R3F98WDEgBGj",
        "cellView": "form"
      },
      "source": [
        "Antwort = \"Bild Sequenzen (Games, Film)\" #@param [\"Mond Bilder\", \"Bild Sequenzen (Games, Film)\", \"Fotos von Justin Bieber\", \"please select\"]\n"
      ],
      "execution_count": null,
      "outputs": []
    },
    {
      "cell_type": "code",
      "metadata": {
        "id": "RzbvV_z88CFD",
        "colab": {
          "base_uri": "https://localhost:8080/"
        },
        "outputId": "f8506f93-6241-46a8-d950-444cb81eda33"
      },
      "source": [
        "import tensorflow as tf\n",
        "from tensorflow import keras\n",
        "\n",
        "# Wir laden hier das Fashion Mnist Dataset\n",
        "fashion_mnist = keras.datasets.fashion_mnist\n",
        "\n",
        "(train_images, train_labels), (test_images, test_labels) = fashion_mnist.load_data()"
      ],
      "execution_count": null,
      "outputs": [
        {
          "output_type": "stream",
          "text": [
            "Downloading data from https://storage.googleapis.com/tensorflow/tf-keras-datasets/train-labels-idx1-ubyte.gz\n",
            "32768/29515 [=================================] - 0s 0us/step\n",
            "Downloading data from https://storage.googleapis.com/tensorflow/tf-keras-datasets/train-images-idx3-ubyte.gz\n",
            "26427392/26421880 [==============================] - 0s 0us/step\n",
            "Downloading data from https://storage.googleapis.com/tensorflow/tf-keras-datasets/t10k-labels-idx1-ubyte.gz\n",
            "8192/5148 [===============================================] - 0s 0us/step\n",
            "Downloading data from https://storage.googleapis.com/tensorflow/tf-keras-datasets/t10k-images-idx3-ubyte.gz\n",
            "4423680/4422102 [==============================] - 0s 0us/step\n"
          ],
          "name": "stdout"
        }
      ]
    },
    {
      "cell_type": "markdown",
      "metadata": {
        "id": "0sH1F3kJ7Q3c"
      },
      "source": [
        "\n",
        "Loading the dataset returns four NumPy arrays:\n",
        "\n",
        "* The `train_images` and `train_labels` arrays are the *training set*—the data the model uses to learn.\n",
        "* The model is tested against the *test set*, the `test_images`, and `test_labels` arrays.\n",
        "\n",
        "The images are 28x28 NumPy arrays, with pixel values ranging from 0 to 255. The *labels* are an array of integers, ranging from 0 to 9. These correspond to the *class* of clothing the image represents. Each image is mapped to a single label:"
      ]
    },
    {
      "cell_type": "markdown",
      "metadata": {
        "id": "piIdCb1eDTeE"
      },
      "source": [
        "$\n",
        "\\begin{array}{|c|l|}\n",
        "  \\hline \\hline\n",
        "  Label & Class\\\\\n",
        "  \\hline\n",
        "  \\hline\t\t\t\n",
        "  0 & T-shirt/top \\\\\\hline\n",
        "  1 & Trouser \\\\\\hline\n",
        "  2 &  Pullover \\\\\\hline\n",
        "  3 &  Dress \\\\\\hline\n",
        "  4 &  Coat \\\\\\hline\n",
        "  5 &  Sandal \\\\\\hline\n",
        "  6 &  Shirt \\\\\\hline\n",
        "  7 &  Sneaker \\\\\\hline\n",
        "  8 &  Bag \\\\\\hline\n",
        "  9 &  Ankle \\nobreakspace Boot \\\\\\hline\n",
        "  \\hline  \n",
        "\\end{array}\n",
        "$"
      ]
    },
    {
      "cell_type": "markdown",
      "metadata": {
        "id": "xboXQw8OWPGj"
      },
      "source": [
        "####**Aufgabe 3.4:** Verifizieren Sie die Unique-Labels in dem Train und Test Datasets."
      ]
    },
    {
      "cell_type": "code",
      "metadata": {
        "id": "LGyW9MQc8ZCF",
        "colab": {
          "base_uri": "https://localhost:8080/"
        },
        "outputId": "452e1cd8-01cf-415a-f90d-6ed138c79b73"
      },
      "source": [
        "print(np.unique(train_labels))\n",
        "print(np.unique(test_labels))"
      ],
      "execution_count": null,
      "outputs": [
        {
          "output_type": "stream",
          "text": [
            "[0 1 2 3 4 5 6 7 8 9]\n",
            "[0 1 2 3 4 5 6 7 8 9]\n"
          ],
          "name": "stdout"
        }
      ]
    },
    {
      "cell_type": "code",
      "metadata": {
        "id": "CN8KPAqrR1YJ"
      },
      "source": [
        "# Comment Cédric Moullet: 10 possible labels are available in the train and test dataset"
      ],
      "execution_count": null,
      "outputs": []
    },
    {
      "cell_type": "markdown",
      "metadata": {
        "id": "8SXQbOPcWzyd"
      },
      "source": [
        "####**Aufgabe 3.5:** Skalieren Sie die Image Daten auf den Werte-Bereich (0, 1)"
      ]
    },
    {
      "cell_type": "code",
      "metadata": {
        "id": "uspXZCPgVU1P"
      },
      "source": [
        "train_images, test_images = train_images / 255.0, test_images / 255.0"
      ],
      "execution_count": null,
      "outputs": []
    },
    {
      "cell_type": "code",
      "metadata": {
        "colab": {
          "base_uri": "https://localhost:8080/"
        },
        "id": "4lc7X81QSVAs",
        "outputId": "285857c4-e9d4-406a-80f6-051ac859c16f"
      },
      "source": [
        "print(np.max(train_images))\n",
        "print(np.max(test_images))"
      ],
      "execution_count": null,
      "outputs": [
        {
          "output_type": "stream",
          "text": [
            "1.0\n",
            "1.0\n"
          ],
          "name": "stdout"
        }
      ]
    },
    {
      "cell_type": "code",
      "metadata": {
        "id": "_2JOsiT93PkV",
        "colab": {
          "base_uri": "https://localhost:8080/"
        },
        "outputId": "5f007727-97e6-4627-ccf7-115a16734b5e"
      },
      "source": [
        "# shapes\n",
        "train_images.shape, test_images.shape"
      ],
      "execution_count": null,
      "outputs": [
        {
          "output_type": "execute_result",
          "data": {
            "text/plain": [
              "((60000, 28, 28), (10000, 28, 28))"
            ]
          },
          "metadata": {
            "tags": []
          },
          "execution_count": 16
        }
      ]
    },
    {
      "cell_type": "markdown",
      "metadata": {
        "id": "w85sfb2z7hk6"
      },
      "source": [
        "####**Aufgabe 3.6:** Die Image-Arrays aus Fashion-Mnist Dataset haben Shape (28, 28). Angenommen, ein Image wäre vom Shape **(28, 64)**. Wieviele **\"Features\"** und **\"Timesteps\"** hätte ein solches Image?"
      ]
    },
    {
      "cell_type": "code",
      "metadata": {
        "cellView": "form",
        "id": "vBCNj9zFcsqc"
      },
      "source": [
        "Features =  1#@param {type:\"integer\"}\n",
        "Timesteps =  1792#@param {type:\"integer\"}\n"
      ],
      "execution_count": null,
      "outputs": []
    },
    {
      "cell_type": "markdown",
      "metadata": {
        "id": "JGc1YZ0bnDk4"
      },
      "source": [
        "####**Aufgabe 3.7:** Definieren ein LSTM-Network mit den folgenden Parametern:\n",
        "\n",
        "\n",
        "1.   1 LSTM Hidden Layer mit 8 Units mit dem Fashion-Mnist Input-Shape\n",
        "2.   1 Dense Hidden Layer mit 32 Units\n",
        "3.   1 Dense Output Layer mit der Anzahl der Units, die zu Fashion-Mnist    Dataset passt\n",
        "4. Verwenden Sie auch passende Aktivierungs-Funktionen pro Layer\n",
        "\n",
        "Erstellen Sie dazu die Funktion\n",
        "\n",
        "```\n",
        "def build_lstm_model()\n",
        "```\n",
        "die eine Model-Instanz (Objekt) zurück gibt.\n"
      ]
    },
    {
      "cell_type": "code",
      "metadata": {
        "id": "MYJqUeuo2Q7K"
      },
      "source": [
        "from tensorflow import keras\n",
        "def build_lstm_model():\n",
        "  # Aufgabe 3.7\n",
        "  model = keras.Sequential([ \n",
        "    keras.layers.LSTM(8),\n",
        "    keras.layers.Dense(32, activation=\"relu\"),\n",
        "    keras.layers.Dense(10, activation=\"softmax\")\n",
        "  ])\n",
        "\n",
        "  return model"
      ],
      "execution_count": null,
      "outputs": []
    },
    {
      "cell_type": "markdown",
      "metadata": {
        "id": "YrSfHI316bO8"
      },
      "source": [
        "####**Aufgabe 3.8:** Erstellen Sie nun eine Model-Instanz mit Hilfe der eben definierten Funktion \n",
        "```\n",
        "def build_lstm_model()\n",
        "```\n",
        "####Ergänzen Sie das fehlende Loss. Bitte, folgendes dabei beachten: Die Labels sind **nicht** one-hot encoded, sondern Integers von 0 bis 9."
      ]
    },
    {
      "cell_type": "code",
      "metadata": {
        "id": "U6cGiqyy6pZ9"
      },
      "source": [
        "model = build_lstm_model()\n",
        "model.compile(optimizer='adam',\n",
        "              loss=tf.keras.losses.SparseCategoricalCrossentropy(from_logits=True),  # Fashion-Mnist labels sind Integers\n",
        "              metrics=['accuracy'])"
      ],
      "execution_count": null,
      "outputs": []
    },
    {
      "cell_type": "markdown",
      "metadata": {
        "id": "ehgQl5MqpJlJ"
      },
      "source": [
        "####**Aufgabe 3.9:** Fitten Sie das Model auf Trainings-Daten für **5 Epochen**. Das Model soll ca. 81% Accuracy erreichen."
      ]
    },
    {
      "cell_type": "code",
      "metadata": {
        "id": "S48-uvT8XEav",
        "colab": {
          "base_uri": "https://localhost:8080/"
        },
        "outputId": "960e4313-971f-4c42-cdba-06ea55ccb466"
      },
      "source": [
        "model.fit(train_images, train_labels, epochs=5)"
      ],
      "execution_count": null,
      "outputs": [
        {
          "output_type": "stream",
          "text": [
            "Epoch 1/5\n",
            "1875/1875 [==============================] - 14s 8ms/step - loss: 0.7180 - accuracy: 0.7348\n",
            "Epoch 2/5\n",
            "1875/1875 [==============================] - 14s 8ms/step - loss: 0.6141 - accuracy: 0.7758\n",
            "Epoch 3/5\n",
            "1875/1875 [==============================] - 15s 8ms/step - loss: 0.5643 - accuracy: 0.7956\n",
            "Epoch 4/5\n",
            "1875/1875 [==============================] - 15s 8ms/step - loss: 0.5264 - accuracy: 0.8089\n",
            "Epoch 5/5\n",
            "1875/1875 [==============================] - 15s 8ms/step - loss: 0.4999 - accuracy: 0.8222\n"
          ],
          "name": "stdout"
        },
        {
          "output_type": "execute_result",
          "data": {
            "text/plain": [
              "<tensorflow.python.keras.callbacks.History at 0x7f3f95352e10>"
            ]
          },
          "metadata": {
            "tags": []
          },
          "execution_count": 23
        }
      ]
    },
    {
      "cell_type": "markdown",
      "metadata": {
        "id": "u1wxVJ3E93fU"
      },
      "source": [
        "####**Aufgabe 3.10:** Konvertieren Sie die Labels zu **one-hot-encoded** mit Hilfe von einer passenden Funktion aus ***tf.keras.utils*** Package"
      ]
    },
    {
      "cell_type": "code",
      "metadata": {
        "id": "hMCCIJs0VlhQ"
      },
      "source": [
        "train_labels = tf.keras.utils.to_categorical(train_labels, 10)\n",
        "test_labels = tf.keras.utils.to_categorical(test_labels, 10)"
      ],
      "execution_count": null,
      "outputs": []
    },
    {
      "cell_type": "markdown",
      "metadata": {
        "id": "ozAUkoq4qywd"
      },
      "source": [
        "####**Aufgabe 3.11:** Erstellen Sie wieder eine neue Model-Instanz mit ``` build_lstm_model()``` und ergänzen Sie das fehlende Loss. Die Labels sind nun one-hot-encoded."
      ]
    },
    {
      "cell_type": "code",
      "metadata": {
        "id": "wv-ehh9j-TDL"
      },
      "source": [
        "model = build_lstm_model()\n",
        "model.compile(optimizer='adam',\n",
        "              loss='binary_crossentropy', # labels sind nun one-hot encoded\n",
        "              metrics=['accuracy'])"
      ],
      "execution_count": null,
      "outputs": []
    },
    {
      "cell_type": "markdown",
      "metadata": {
        "id": "Q4E94gaurNwJ"
      },
      "source": [
        "####**Aufgabe 3.12:** Fitten Sie wieder das Model auf den Train Daten für 5 Epochen."
      ]
    },
    {
      "cell_type": "code",
      "metadata": {
        "id": "i-qt9oiaOtl9",
        "colab": {
          "base_uri": "https://localhost:8080/"
        },
        "outputId": "d12b89b0-dc5c-4823-a4c9-79b91066a5cb"
      },
      "source": [
        "model.fit(train_images, train_labels, epochs=5)"
      ],
      "execution_count": null,
      "outputs": [
        {
          "output_type": "stream",
          "text": [
            "Epoch 1/5\n",
            "1875/1875 [==============================] - 17s 8ms/step - loss: 0.3064 - accuracy: 0.3108\n",
            "Epoch 2/5\n",
            "1875/1875 [==============================] - 15s 8ms/step - loss: 0.1489 - accuracy: 0.6743\n",
            "Epoch 3/5\n",
            "1875/1875 [==============================] - 14s 8ms/step - loss: 0.1267 - accuracy: 0.7212\n",
            "Epoch 4/5\n",
            "1875/1875 [==============================] - 14s 8ms/step - loss: 0.1121 - accuracy: 0.7487\n",
            "Epoch 5/5\n",
            "1875/1875 [==============================] - 14s 8ms/step - loss: 0.1039 - accuracy: 0.7744\n"
          ],
          "name": "stdout"
        },
        {
          "output_type": "execute_result",
          "data": {
            "text/plain": [
              "<tensorflow.python.keras.callbacks.History at 0x7f3f935bc110>"
            ]
          },
          "metadata": {
            "tags": []
          },
          "execution_count": 26
        }
      ]
    },
    {
      "cell_type": "markdown",
      "metadata": {
        "id": "mI3iguP7DJAb"
      },
      "source": [
        "## **CNN**"
      ]
    },
    {
      "cell_type": "markdown",
      "metadata": {
        "id": "7R3kbE0XDy3K"
      },
      "source": [
        "### Aufgabe 4:\n"
      ]
    },
    {
      "cell_type": "markdown",
      "metadata": {
        "id": "TWhugvB4vFYJ"
      },
      "source": [
        "Wir laden wieder das Fashion-Mnist Dataset"
      ]
    },
    {
      "cell_type": "code",
      "metadata": {
        "id": "reQAC_98biOR"
      },
      "source": [
        "fashion_mnist = keras.datasets.fashion_mnist\n",
        "\n",
        "(train_images, train_labels), (test_images, test_labels) = fashion_mnist.load_data()"
      ],
      "execution_count": null,
      "outputs": []
    },
    {
      "cell_type": "code",
      "metadata": {
        "id": "iIF_HuxxbiOS"
      },
      "source": [
        "train_images, test_images = train_images / 255.0, test_images / 255.0"
      ],
      "execution_count": null,
      "outputs": []
    },
    {
      "cell_type": "markdown",
      "metadata": {
        "id": "l7IATHMaEAGJ"
      },
      "source": [
        "####**Aufgabe 4.1:** Definieren ein CNN-Network mit den folgenden Parametern:\n",
        "\n",
        "\n",
        "1.   1 Flatten Layer\n",
        "2.   1 MaxPooling2D Hidden Layer mit Pooling Size von 2\n",
        "3.   1 Dense Hidden Layer mit 32 Units\n",
        "4.   1 Con2D Hidden Layer mit **8 Filters**, **(3, 3) Kernel-Size** mit dem Fashion-Mnist Input-Shape. **Input-Shape** muss **3 Dimensionen** haben. Beachten Sie bitte, dass die Fashion-Mnist Images Schwarz-Weiss sind.\n",
        "5.   1 Dense Output Layer mit der Anzahl der Units, die zu Fashion-Mnist    Dataset passt\n",
        "6.   Verwenden Sie auch passende Aktivierungs-Funktionen pro Layer, wenn nötig\n",
        "7.   Printen Sie das Model-Summary\n",
        "8.   **Sie müssen die o.a. Layers in der richtigen Reihenfolge einfügen!**\n",
        "\n",
        "Erstellen Sie dazu die Funktion\n",
        "\n",
        "```\n",
        "def build_cnn_model()\n",
        "```\n",
        "die eine Model-Instanz (Objekt) zurück gibt und summary printet.\n"
      ]
    },
    {
      "cell_type": "code",
      "metadata": {
        "id": "j-pLJ3nBExor"
      },
      "source": [
        "from keras import models, layers\n",
        "def build_cnn_model():\n",
        "  model = models.Sequential()\n",
        " \n",
        "  #Aufgabe 4.1 \n",
        "  model.add(layers.Conv2D(8, (3, 3), activation='relu'))\n",
        "  model.add(layers.MaxPooling2D((2, 2)))\n",
        "  model.add(layers.Flatten())\n",
        "  model.add(layers.Dense(32,activation='relu'))\n",
        "  model.add(layers.Dense(10, activation='softmax'))\n",
        "\n",
        "  return model\n",
        "\n"
      ],
      "execution_count": null,
      "outputs": []
    },
    {
      "cell_type": "markdown",
      "metadata": {
        "id": "wPhwoVGu3dMq"
      },
      "source": [
        "####**Aufgabe 4.2:** Erstellen Sie und kompillieren Sie mit ```model.compile``` das CNN Model. Verwenden Sie 'adam' Optimizer und die Metric 'accuracy'. Wählen Sie das passende Loss.\n"
      ]
    },
    {
      "cell_type": "code",
      "metadata": {
        "id": "APZejtDSXXlv"
      },
      "source": [
        "model = build_cnn_model()\n",
        "model.compile(optimizer='adam',\n",
        "              loss='sparse_categorical_crossentropy', # labels sind nun one-hot encoded\n",
        "              metrics=['accuracy'])"
      ],
      "execution_count": null,
      "outputs": []
    },
    {
      "cell_type": "markdown",
      "metadata": {
        "id": "IzO5U0Gq5SzO"
      },
      "source": [
        "####**Aufgabe 4.3:** Bevor Sie das model fitten können, müssen Sie die Inputdaten in 4 Dimensionen reshapen. Die letzte Dimension fehlt noch. Bitte ergänzen Sie diese."
      ]
    },
    {
      "cell_type": "code",
      "metadata": {
        "colab": {
          "base_uri": "https://localhost:8080/"
        },
        "id": "PVFoOyQKa8KD",
        "outputId": "67b9dfa5-f8f4-41e3-ecbb-37a65952b275"
      },
      "source": [
        "train_images.shape"
      ],
      "execution_count": null,
      "outputs": [
        {
          "output_type": "execute_result",
          "data": {
            "text/plain": [
              "(60000, 28, 28)"
            ]
          },
          "metadata": {
            "tags": []
          },
          "execution_count": 86
        }
      ]
    },
    {
      "cell_type": "code",
      "metadata": {
        "id": "EqlMO1-_Y9Th"
      },
      "source": [
        "# Aufgabe 4.3 code hier\n",
        "train_images = np.expand_dims(train_images, axis=3)"
      ],
      "execution_count": null,
      "outputs": []
    },
    {
      "cell_type": "code",
      "metadata": {
        "id": "jq5Ny_g6bO9d",
        "colab": {
          "base_uri": "https://localhost:8080/"
        },
        "outputId": "e3e4cce4-d714-4e76-c8d9-ebdddb573f3a"
      },
      "source": [
        "# Shape (60000, 28, 28, 1) ist erforderlich\n",
        "train_images.shape"
      ],
      "execution_count": null,
      "outputs": [
        {
          "output_type": "execute_result",
          "data": {
            "text/plain": [
              "(60000, 28, 28, 1)"
            ]
          },
          "metadata": {
            "tags": []
          },
          "execution_count": 88
        }
      ]
    },
    {
      "cell_type": "code",
      "metadata": {
        "colab": {
          "base_uri": "https://localhost:8080/"
        },
        "id": "tIXLXGp8buTA",
        "outputId": "5b9045c4-17f1-4331-8709-2a84f708b30d"
      },
      "source": [
        "train_labels.shape"
      ],
      "execution_count": null,
      "outputs": [
        {
          "output_type": "execute_result",
          "data": {
            "text/plain": [
              "(60000,)"
            ]
          },
          "metadata": {
            "tags": []
          },
          "execution_count": 89
        }
      ]
    },
    {
      "cell_type": "markdown",
      "metadata": {
        "id": "e6jc0Obj8dlj"
      },
      "source": [
        "####**Aufgabe 4.4:** Fitten Sie das Model für 5 Epochen"
      ]
    },
    {
      "cell_type": "code",
      "metadata": {
        "id": "aHnVCfCgXdCr",
        "colab": {
          "base_uri": "https://localhost:8080/"
        },
        "outputId": "a70ae5ab-d4b9-4a23-9553-e9c3272b4705"
      },
      "source": [
        "model.fit(train_images,train_labels,epochs=5)"
      ],
      "execution_count": null,
      "outputs": [
        {
          "output_type": "stream",
          "text": [
            "Epoch 1/5\n",
            "1875/1875 [==============================] - 20s 10ms/step - loss: 0.6382 - accuracy: 0.7796\n",
            "Epoch 2/5\n",
            "1875/1875 [==============================] - 19s 10ms/step - loss: 0.3489 - accuracy: 0.8773\n",
            "Epoch 3/5\n",
            "1875/1875 [==============================] - 19s 10ms/step - loss: 0.2999 - accuracy: 0.8929\n",
            "Epoch 4/5\n",
            "1875/1875 [==============================] - 19s 10ms/step - loss: 0.2773 - accuracy: 0.9003\n",
            "Epoch 5/5\n",
            "1875/1875 [==============================] - 19s 10ms/step - loss: 0.2535 - accuracy: 0.9086\n"
          ],
          "name": "stdout"
        },
        {
          "output_type": "execute_result",
          "data": {
            "text/plain": [
              "<tensorflow.python.keras.callbacks.History at 0x7f3f86433610>"
            ]
          },
          "metadata": {
            "tags": []
          },
          "execution_count": 90
        }
      ]
    },
    {
      "cell_type": "markdown",
      "metadata": {
        "id": "07z85Jod9zcd"
      },
      "source": [
        "####**Aufgabe 4.5:**  Gegeben ist nun ein Dataset mit 60.000 **Farb-Images** der Grösse 120 x 60 Pixel (Höhe x Breite). Sie wollen ein CNN-Model mit batch_size=32 darauf trainieren. Bitte, **ein** korrektes **Input-Shape** für das CNN-Input auswählen."
      ]
    },
    {
      "cell_type": "code",
      "metadata": {
        "id": "q2z5u8l00mhC",
        "cellView": "form"
      },
      "source": [
        "input_dimension_cnn = '(None, 120, 60, 3)' #@param [\"please select\", \"(None, 120, 60)\", \"(None, 120, 60, 3)\", \"(None, 32, 120, 60, 3)\", \"(None, 60, 120, 3)\", \"(None, 120, 60, 1)\"] {allow-input: false}\n"
      ],
      "execution_count": null,
      "outputs": []
    },
    {
      "cell_type": "markdown",
      "metadata": {
        "id": "OFmP580Y3QSH"
      },
      "source": [
        "####**Aufgabe 4.6:** Beschreiben Sie bitte kurz die Bedeutung jeder Dimension des von Ihnen ausgewählten Shapes.\n",
        "\n",
        "#### Beispiel: (None, 120). \n",
        "#### Für was steht **None**?\n",
        "#### Für was steht **120**?"
      ]
    },
    {
      "cell_type": "code",
      "metadata": {
        "id": "ZIfn-WEx3vFm",
        "cellView": "form"
      },
      "source": [
        "dim_1 = \"Batch size\" #@param {type:\"string\"}\n",
        "dim_2 = \"Image height\" #@param {type:\"string\"}\n",
        "dim_3 = \"Image width\" #@param {type:\"string\"}\n",
        "dim_4 = \"Color channels\" #@param {type:\"string\"}\n",
        "dim_5 = \"\" #@param {type:\"string\"}\n"
      ],
      "execution_count": null,
      "outputs": []
    },
    {
      "cell_type": "markdown",
      "metadata": {
        "id": "MJzuBkKO3k05"
      },
      "source": [
        "#**Reinforcement Learning**"
      ]
    },
    {
      "cell_type": "markdown",
      "metadata": {
        "id": "EzybwCuB0HwB"
      },
      "source": [
        "## Allgemeine Fragen"
      ]
    },
    {
      "cell_type": "markdown",
      "metadata": {
        "id": "oD_xvKJpPAh2"
      },
      "source": [
        "### Aufgabe 5"
      ]
    },
    {
      "cell_type": "markdown",
      "metadata": {
        "id": "0IF4GV-DPETo"
      },
      "source": [
        "####**Aufgabe 5.1:** Definieren Sie mit eigenen Worten die **Markov Property**."
      ]
    },
    {
      "cell_type": "code",
      "metadata": {
        "cellView": "form",
        "id": "zoghNKsDP0qA"
      },
      "source": [
        "Antwort = \"Markov property is the probability of the next state, given the current state and current action, will be the same as if you give the entire history of interactions (states and actions)\" #@param {type:\"string\"}\n"
      ],
      "execution_count": null,
      "outputs": []
    },
    {
      "cell_type": "markdown",
      "metadata": {
        "id": "d1EDYKYFQBmS"
      },
      "source": [
        "####**Aufgabe 5.2:** Definieren Sie mit eigenen Worten die **State-Action-Value Function** $Q(s,a)$. Was berechnet diese Funktion?"
      ]
    },
    {
      "cell_type": "code",
      "metadata": {
        "cellView": "form",
        "id": "vQ8vI_D6RTFX"
      },
      "source": [
        "Antwort = \"It defines how good it is for an agent to do an action in a given state\" #@param {type:\"string\"}\n"
      ],
      "execution_count": null,
      "outputs": []
    },
    {
      "cell_type": "markdown",
      "metadata": {
        "id": "xF86gDGaQcMv"
      },
      "source": [
        "####**Aufgabe 5.3:** Deep Reinforcement Learning ist dem traditionnelen Supervised-Learning (Machine Learning oder Deep Learning) immer überlegen. Stimmt diese Aussage?"
      ]
    },
    {
      "cell_type": "code",
      "metadata": {
        "cellView": "form",
        "id": "Z4-mQJvZRRBf"
      },
      "source": [
        "Antwort = \"nein\" #@param [\"please select\", \"ja\", \"nein\"]\n"
      ],
      "execution_count": null,
      "outputs": []
    },
    {
      "cell_type": "markdown",
      "metadata": {
        "id": "cQtD2_eESbGC"
      },
      "source": [
        "####**Aufgabe 5.4:** Model eines Environments wird durch dessen Transition- und Reward-Function definiert. Stimm diese Aussage?"
      ]
    },
    {
      "cell_type": "code",
      "metadata": {
        "cellView": "form",
        "id": "asy0pw1PTMAE"
      },
      "source": [
        "Antwort = \"ja\" #@param [\"please select\", \"ja\", \"nein\"]"
      ],
      "execution_count": null,
      "outputs": []
    },
    {
      "cell_type": "markdown",
      "metadata": {
        "id": "hu6FP030TqTt"
      },
      "source": [
        "####**Aufgabe 5.5:** Gegeben sind State-Value Function $V(s)$ und die State-Action-Value Function $Q(s,a)$. Definieren Sie die Advantage Function $A(s,a)$ mit Hilfe von $V(s)$ und $Q(s,a)$. Benutzen Sie vereinfacht Symbole A, V und Q."
      ]
    },
    {
      "cell_type": "code",
      "metadata": {
        "cellView": "form",
        "id": "9XqVb4mvUt_M"
      },
      "source": [
        "Antwort = \"A = Q - V\" #@param {type:\"string\"}\n"
      ],
      "execution_count": null,
      "outputs": []
    },
    {
      "cell_type": "markdown",
      "metadata": {
        "id": "KSKNfhPZ0NgB"
      },
      "source": [
        "## **DQN**"
      ]
    },
    {
      "cell_type": "markdown",
      "metadata": {
        "id": "Fzf1q7kuCu9o"
      },
      "source": [
        "###Aufgabe 6"
      ]
    },
    {
      "cell_type": "markdown",
      "metadata": {
        "id": "5dIvskOMC-6B"
      },
      "source": [
        "Gegeben sind:\n",
        "\n",
        "\n",
        "1.   Cart-Pole Environment v1 (CartPole-v1).\n",
        "2.   GreedyStrategy Klasse, um die Aktionen während \"Play\" aufzurufen.\n",
        "3.   EGreedyExpStrategy Klasse, um die Aktionen während \"Train\" aufzurufen. Diese Klasse sorgt auch für einen sanften exponetiellen Abstieg von epsilon.\n",
        "4.   Die Methode der Agenten-Klasse **get_action** wurde entfernt. Stattdessen soll die Methode der beiden o.a. Klassen ```select_action(model, state)``` verwendet werden.\n",
        "5.  Zusätzlich zu der bekannten Methode der DQN Klasse ```update_model(other_model: Model)``` (diese kopiert sämtliche Gewichte von Online zu Target Model) gibt es die neue Methode ```update_model_mixed(other_model: Model, tau=None).``` Diese neue Methode kombiniert die Gewichte von Online und Target Model, vobei tau-Prozentanteil von Online-Model in Target-Model hineinfliesst.\n",
        "6. **Der o.a. Code ist vollständig und lauffähig. Sie müssen nichts neu kodieren!**\n",
        "7.  Die Aufgaben werden es sein, diesen Code **zu verwenden**.\n"
      ]
    },
    {
      "cell_type": "markdown",
      "metadata": {
        "id": "Dhs9kvp2DLAw"
      },
      "source": [
        "**Imports**"
      ]
    },
    {
      "cell_type": "code",
      "metadata": {
        "id": "WHJuB9kkVwpI"
      },
      "source": [
        "import random\n",
        "import collections\n",
        "import os\n",
        "import numpy as np\n",
        "from itertools import cycle, count\n",
        "\n",
        "import gym\n",
        "from tensorflow.keras.models import *\n",
        "from tensorflow.keras.layers import *\n",
        "from tensorflow.keras.optimizers import *"
      ],
      "execution_count": null,
      "outputs": []
    },
    {
      "cell_type": "markdown",
      "metadata": {
        "id": "6no5PwixfNW2"
      },
      "source": [
        "**Pfade und Model-Verzeichnis**"
      ]
    },
    {
      "cell_type": "code",
      "metadata": {
        "id": "hhakcWtsW50o"
      },
      "source": [
        "MODELS_PATH = \"content/models\"\n",
        "MODEL_PATH = os.path.join(MODELS_PATH, \"dqn.h5\")\n",
        "TARGET_MODEL_PATH = os.path.join(MODELS_PATH, \"target_dqn.h5\")\n",
        "\n",
        "if not os.path.exists(MODELS_PATH):\n",
        "    os.makedirs(MODELS_PATH)"
      ],
      "execution_count": null,
      "outputs": []
    },
    {
      "cell_type": "markdown",
      "metadata": {
        "id": "PdN6pYPIfU7m"
      },
      "source": [
        "**Environment**"
      ]
    },
    {
      "cell_type": "code",
      "metadata": {
        "id": "U9Fh-ZlTjgI2",
        "colab": {
          "base_uri": "https://localhost:8080/"
        },
        "outputId": "8104381b-9490-4af4-d4ee-6f7996c561e0"
      },
      "source": [
        "env = gym.make('CartPole-v1')\n",
        "print(\"Observation Space:\", env.observation_space.shape)\n",
        "print(\"Action Space:\", env.action_space.n)\n",
        "print(\"Max. Steps per Episode:\", env.spec.max_episode_steps)\n",
        "print(\"Reward Threshold:\", env.spec.reward_threshold)"
      ],
      "execution_count": null,
      "outputs": [
        {
          "output_type": "stream",
          "text": [
            "Observation Space: (4,)\n",
            "Action Space: 2\n",
            "Max. Steps per Episode: 500\n",
            "Reward Threshold: 475.0\n"
          ],
          "name": "stdout"
        }
      ]
    },
    {
      "cell_type": "markdown",
      "metadata": {
        "id": "aTo4IajhfbjF"
      },
      "source": [
        "**Greedy Strategy**"
      ]
    },
    {
      "cell_type": "code",
      "metadata": {
        "id": "Td9Y5dgzouPg"
      },
      "source": [
        "class GreedyStrategy():\n",
        "    def __init__(self):\n",
        "        self.exploratory_action_taken = False\n",
        "\n",
        "    def select_action(self, model, state):\n",
        "      q_values = model(state)\n",
        "      return np.argmax(q_values)"
      ],
      "execution_count": null,
      "outputs": []
    },
    {
      "cell_type": "markdown",
      "metadata": {
        "id": "qDLZp5GbfhpQ"
      },
      "source": [
        "**Epsilon Greedy Strategy**"
      ]
    },
    {
      "cell_type": "code",
      "metadata": {
        "id": "vnHOqnsErh6W"
      },
      "source": [
        "class EGreedyExpStrategy():\n",
        "    def __init__(self, init_epsilon=1.0, min_epsilon=0.01, decay_steps=20000):\n",
        "        self.epsilon = init_epsilon\n",
        "        self.init_epsilon = init_epsilon\n",
        "        self.decay_steps = decay_steps\n",
        "        self.min_epsilon = min_epsilon\n",
        "        self.epsilons = 0.01 / np.logspace(-2, 0, decay_steps, endpoint=False) - 0.01\n",
        "        self.epsilons = self.epsilons * (init_epsilon - min_epsilon) + min_epsilon\n",
        "        self.t = 0\n",
        "        self.exploratory_action_taken = None\n",
        "\n",
        "    def _epsilon_update(self):\n",
        "        self.epsilon = self.min_epsilon if self.t >= self.decay_steps else self.epsilons[self.t]\n",
        "        self.t += 1\n",
        "        return self.epsilon\n",
        "\n",
        "    def select_action(self, model, state):\n",
        "        self.exploratory_action_taken = False\n",
        "       \n",
        "        q_values = model(state)\n",
        "\n",
        "        if np.random.rand() > self.epsilon:\n",
        "            action = np.argmax(q_values)\n",
        "        else:\n",
        "            action = np.random.randint(len(q_values))\n",
        "\n",
        "        self._epsilon_update()\n",
        "        self.exploratory_action_taken = action != np.argmax(q_values)\n",
        "        return action\n",
        "\n"
      ],
      "execution_count": null,
      "outputs": []
    },
    {
      "cell_type": "markdown",
      "metadata": {
        "id": "kIg5suk1j6cU"
      },
      "source": [
        "####**Aufgabe 6.1:** Innerhalb der **```train```** Methode der Agenten-Klasse rufen Sie die Methode  ```self.strategy.select_action(model, state)``` der **```EGreedyExpStrategy```** Klasse auf. Diese Methode gibt die Aktion zurück und selektiert ab und zu random actions."
      ]
    },
    {
      "cell_type": "markdown",
      "metadata": {
        "id": "2fZgBYaul-C-"
      },
      "source": [
        "####**Aufgabe 6.2:** Innerhalb der **```train```** Methode der Agenten Klasse rufen Sie die Methode ```update_model(other_model: Model)``` auf. Diese Methode soll nur unter folgender Bedingung aufgerufen werden: ```current_reward_mean > best_reward_mean.``` Sie überträgt sämtliche Gewichte des Online Models auf das Target Model, nur wenn das Online Model Fortschritte macht."
      ]
    },
    {
      "cell_type": "markdown",
      "metadata": {
        "id": "uLV9xPVLnP7T"
      },
      "source": [
        "####**Aufgabe 6.3:** Innerhalb der **```train```** Methode der Agenten Klasse rufen Sie die Methode ```update_model_mixed(other_model: Model, tau=0.1)``` auf. Diese Methode soll nur alle **100 Steps** aufgerufen werden. Verwenden Sie dazu diese Bedingung ```if step%self.num_update_steps == 0``` mit ```self.num_update_steps=100.```Der Parameter **```tau = 0.1```**"
      ]
    },
    {
      "cell_type": "markdown",
      "metadata": {
        "id": "GDU7-XuSr2ws"
      },
      "source": [
        "####**Aufgabe 6.4:** Innerhalb der **```play```** Methode der Agenten-Klasse rufen Sie die Methode  ```self.strategy.select_action(model, state)``` der **```GreedyStrategy```** Klasse auf. Diese Methode gibt die Aktion zurück, ohne zufällige Aktionen auszuwählen."
      ]
    },
    {
      "cell_type": "markdown",
      "metadata": {
        "id": "CzmFxyOAfm-o"
      },
      "source": [
        "**Agent**"
      ]
    },
    {
      "cell_type": "code",
      "metadata": {
        "id": "sTn2tpR1Vj4T"
      },
      "source": [
        "class Agent:\n",
        "    def __init__(self, env: gym.Env, strategy):\n",
        "        # DQN Env Variables\n",
        "        self.env = env\n",
        "        self.observations = self.env.observation_space.shape\n",
        "        self.actions = self.env.action_space.n\n",
        "        # DQN Agent Variables\n",
        "        self.replay_buffer_size = 50_000\n",
        "        self.train_start = 500\n",
        "        self.memory: Deque = collections.deque(\n",
        "            maxlen=self.replay_buffer_size\n",
        "        )\n",
        "        self.gamma = .996\n",
        "        self.tau = .1\n",
        "       \n",
        "        self.state_shape = self.observations\n",
        "        self.learning_rate = 5e-4\n",
        "        self.dqn = DQN(\n",
        "            self.state_shape,\n",
        "            self.actions,\n",
        "            self.learning_rate,\n",
        "            self.tau\n",
        "\n",
        "        )\n",
        "        self.target_dqn = DQN(\n",
        "            self.state_shape,\n",
        "            self.actions,\n",
        "            self.learning_rate,\n",
        "            self.tau\n",
        "        )\n",
        "        self.batch_size = 32\n",
        "        self.num_update_steps = 100\n",
        "        \n",
        "        self.strategy = strategy\n",
        "\n",
        "\n",
        "    def train(self, num_episodes: int):\n",
        "        last_rewards: Deque = collections.deque(maxlen=5)\n",
        "        best_reward_mean = 0.0\n",
        "\n",
        "        for episode in range(1, num_episodes + 1):\n",
        "            total_reward = 0.0\n",
        "            state = self.env.reset()\n",
        "            state = np.reshape(state, newshape=(1, -1)).astype(np.float32)\n",
        "\n",
        "            for step in count():\n",
        "                # 6.1:\n",
        "                action = self.strategy.select_action(self.dqn,state) \n",
        "                next_state, reward, done, info = self.env.step(action)\n",
        "                next_state = np.reshape(next_state, newshape=(1, -1)).astype(np.float32)\n",
        "                \n",
        "                if done and total_reward < env.spec.reward_threshold:\n",
        "                  reward = -100.0\n",
        "\n",
        "                self.remember(state, action, reward, next_state, done)\n",
        "                self.replay()\n",
        "                total_reward += reward\n",
        "                state = next_state\n",
        "                \n",
        "                # 6.3:\n",
        "                if step%self.num_update_steps == 0:\n",
        "                  self.target_dqn.update_model_mixed(self.dqn, self.tau)\n",
        "\n",
        "                if done:\n",
        "                  if total_reward < env.spec.reward_threshold:\n",
        "                    total_reward += 100.0\n",
        "                  print(f\"Episode: {episode} Reward: {total_reward} Epsilon: {self.strategy.epsilon}\")\n",
        "                  last_rewards.append(total_reward)\n",
        "                  current_reward_mean = np.mean(last_rewards)\n",
        "\n",
        "                  if current_reward_mean > best_reward_mean:\n",
        "                      # 6.2:\n",
        "                      self.target_dqn.update_model(self.dqn)\n",
        "                      best_reward_mean = current_reward_mean\n",
        "                      self.dqn.save_model(MODEL_PATH)\n",
        "                      self.target_dqn.save_model(TARGET_MODEL_PATH)\n",
        "                      print(f\"New best mean: {best_reward_mean}\")\n",
        "                      if best_reward_mean > 470:\n",
        "                        print(\"Environment solved! Stop training...\")\n",
        "                        return   \n",
        "                  break\n",
        "\n",
        "\n",
        "    def remember(self, state, action, reward, next_state, done):\n",
        "        self.memory.append((state, action, reward, next_state, done))\n",
        "\n",
        "    def replay(self):\n",
        "        if len(self.memory) < self.train_start:\n",
        "            return\n",
        "        minibatch = random.sample(self.memory, self.batch_size)\n",
        "        states, actions, rewards, states_next, dones = zip(*minibatch)\n",
        "\n",
        "        states = np.concatenate(states).astype(np.float32)\n",
        "        states_next = np.concatenate(states_next).astype(np.float32)\n",
        "       \n",
        "        rewards = np.array(rewards).astype(np.float32)\n",
        "        dones = np.array(dones)\n",
        "\n",
        "        q_values = self.dqn(states)\n",
        "        q_values_next = self.target_dqn(states_next)\n",
        "\n",
        "        for i in range(self.batch_size):\n",
        "            a = actions[i]\n",
        "            done = dones[i]\n",
        "            if done:\n",
        "                q_values[i][a] = rewards[i]\n",
        "            else:\n",
        "                q_values[i][a] = rewards[i] + self.gamma * np.max(q_values_next[i])\n",
        "\n",
        "        self.dqn.fit(states, q_values)\n",
        "\n",
        "\n",
        "    def play(self, num_episodes: int):\n",
        "        self.dqn.load_model(MODEL_PATH)\n",
        "        self.target_dqn.load_model(TARGET_MODEL_PATH)\n",
        "\n",
        "        for episode in range(1, num_episodes + 1):\n",
        "            total_reward = 0.0\n",
        "            state = self.env.reset()\n",
        "            state = np.reshape(state, newshape=(1, -1)).astype(np.float32)\n",
        "\n",
        "            while True:\n",
        "                # 6.4:\n",
        "                action = self.strategy.select_action(self.dqn,state) \n",
        "                next_state, reward, done, info = self.env.step(action)\n",
        "                next_state = np.reshape(next_state, newshape=(1, -1)).astype(np.float32)\n",
        "                total_reward += reward\n",
        "                state = next_state\n",
        "\n",
        "                if done:\n",
        "                    print(f\"Episode: {episode} Reward: {total_reward}\")\n",
        "                    break"
      ],
      "execution_count": null,
      "outputs": []
    },
    {
      "cell_type": "markdown",
      "metadata": {
        "id": "TviQjsCpfrQj"
      },
      "source": [
        "**DQN**"
      ]
    },
    {
      "cell_type": "code",
      "metadata": {
        "id": "R2pGzSI4DM-d"
      },
      "source": [
        "\n",
        "class DQN(Model):\n",
        "    def __init__(self, state_shape: int, num_actions: int, learning_rate: float, tau: float):\n",
        "        super().__init__()\n",
        "        self.state_shape = state_shape\n",
        "        self.num_actions = num_actions\n",
        "        self.learning_rate = learning_rate\n",
        "        self.tau = tau\n",
        "        self.internal_model = self.build_model()\n",
        "\n",
        "    def build_model(self):\n",
        "        input_state = Input(shape=self.state_shape)\n",
        "        x = Dense(units=32)(input_state)\n",
        "        x = Activation(\"relu\")(x)\n",
        "        x = Dense(units=32)(x)\n",
        "        x = Activation(\"relu\")(x)\n",
        "        q_value_pred = Dense(self.num_actions)(x)\n",
        "        model = Model(\n",
        "            inputs=input_state,\n",
        "            outputs=q_value_pred\n",
        "        )\n",
        "        model.compile(\n",
        "            loss=\"mse\",\n",
        "            optimizer=Adam(learning_rate=self.learning_rate)\n",
        "        )\n",
        "        return model\n",
        "\n",
        "    def call(self, inputs: np.ndarray) -> np.ndarray:\n",
        "        return self.internal_model(inputs).numpy()\n",
        "\n",
        "    def fit(self, states: np.ndarray, q_values: np.ndarray):\n",
        "        self.internal_model.fit(x=states, y=q_values, verbose=0)\n",
        "\n",
        "    def update_model(self, other_model: Model):\n",
        "        self.internal_model.set_weights(other_model.get_weights())\n",
        "\n",
        "    def update_model_mixed(self, other_model: Model, tau=None):\n",
        "        new_target_weights = []\n",
        "        tau = self.tau if tau is None else tau\n",
        "        for target, online in zip(self.internal_model.get_weights(), other_model.get_weights()):\n",
        "          target_ratio = (1.0 - self.tau) * target #target_model\n",
        "          online_ratio = self.tau * online # online_model\n",
        "          mixed_weights = target_ratio + online_ratio\n",
        "          new_target_weights.append(mixed_weights)\n",
        "\n",
        "        self.internal_model.set_weights(new_target_weights)\n",
        "\n",
        "    def load_model(self, path: str):\n",
        "        self.internal_model.load_weights(path)\n",
        "\n",
        "    def save_model(self, path: str):\n",
        "        self.internal_model.save_weights(path)"
      ],
      "execution_count": null,
      "outputs": []
    },
    {
      "cell_type": "markdown",
      "metadata": {
        "id": "wooyIlvIsl5v"
      },
      "source": [
        "####**Aufgabe 6.5:** Übergeben Sie ein ```EGreedyExpStrategy``` Objekt an den ```strategy``` Parameter des Agent-Konstruktors mit den Parameter Werten: **```init_epsilon=0.02, min_epsilon=0.01.```** Trainieren Sie den Agenten für **200 Episoden**. Falls Ihre vorherige Implementierung korrekt ist, wird er das Cart-Pole Environment in **ca. 200 Episoden lösen**! \n",
        "\n",
        "---\n",
        "\n",
        "Beachten Sie, dass der Anfangs-Epsilon Wert mit nur 0.02 gesetzt wurde.\n",
        "\n",
        "---\n",
        "\n",
        "\n",
        "\n",
        "\n",
        "\n"
      ]
    },
    {
      "cell_type": "markdown",
      "metadata": {
        "id": "aDH2pFlJfuue"
      },
      "source": [
        "**Training**"
      ]
    },
    {
      "cell_type": "code",
      "metadata": {
        "id": "qkIbjofvmda5"
      },
      "source": [
        "# Comment Cédric Moullet: this part takes more than 20 minutes. I stopped it after 159 episodes."
      ],
      "execution_count": null,
      "outputs": []
    },
    {
      "cell_type": "code",
      "metadata": {
        "id": "VwwM2oA1JIrm",
        "colab": {
          "base_uri": "https://localhost:8080/",
          "height": 1000
        },
        "outputId": "574f9c90-6a8a-4932-86d5-5d86fe24ce2a"
      },
      "source": [
        "agent = Agent(env, strategy=EGreedyExpStrategy(init_epsilon=0.02, min_epsilon=0.01))\n",
        "agent.train(num_episodes=1000)"
      ],
      "execution_count": null,
      "outputs": [
        {
          "output_type": "stream",
          "text": [
            "Episode: 1 Reward: 9.0 Epsilon: 0.019879298192025278\n",
            "New best mean: 9.0\n",
            "Episode: 2 Reward: 17.0 Epsilon: 0.019838023056811184\n",
            "New best mean: 13.0\n",
            "Episode: 3 Reward: 11.0 Epsilon: 0.01981060118647831\n",
            "Episode: 4 Reward: 16.0 Epsilon: 0.01977188301068396\n",
            "New best mean: 13.25\n",
            "Episode: 5 Reward: 13.0 Epsilon: 0.01974011105761134\n",
            "Episode: 6 Reward: 22.0 Epsilon: 0.019688136113351812\n",
            "New best mean: 15.8\n",
            "Episode: 7 Reward: 13.0 Epsilon: 0.019656633693709555\n",
            "Episode: 8 Reward: 16.0 Epsilon: 0.01961851702940169\n",
            "New best mean: 16.0\n",
            "Episode: 9 Reward: 28.0 Epsilon: 0.0195538378511649\n",
            "New best mean: 18.4\n",
            "Episode: 10 Reward: 24.0 Epsilon: 0.01949842553582907\n",
            "New best mean: 20.6\n",
            "Episode: 11 Reward: 17.0 Epsilon: 0.019458725718846912\n",
            "Episode: 12 Reward: 14.0 Epsilon: 0.019425767998554604\n",
            "Episode: 13 Reward: 32.0 Epsilon: 0.019353660459579654\n",
            "New best mean: 23.0\n",
            "Episode: 14 Reward: 20.0 Epsilon: 0.019308058300365895\n",
            "Episode: 15 Reward: 23.0 Epsilon: 0.019256210840627026\n",
            "Episode: 16 Reward: 21.0 Epsilon: 0.019208935046377294\n",
            "Episode: 17 Reward: 17.0 Epsilon: 0.019170432584045275\n",
            "Episode: 18 Reward: 9.0 Epsilon: 0.019149111180764646\n",
            "Episode: 19 Reward: 8.0 Epsilon: 0.01912996384840454\n",
            "Episode: 20 Reward: 8.0 Epsilon: 0.019110856154484206\n",
            "Episode: 21 Reward: 16.0 Epsilon: 0.01907487170297663\n",
            "Episode: 22 Reward: 8.0 Epsilon: 0.019055878059757853\n",
            "Episode: 23 Reward: 8.0 Epsilon: 0.019036923736814544\n",
            "Episode: 24 Reward: 23.0 Epsilon: 0.01898657048958146\n",
            "Episode: 25 Reward: 30.0 Epsilon: 0.01892194136035736\n",
            "Episode: 26 Reward: 20.0 Epsilon: 0.01887842170909727\n",
            "Episode: 27 Reward: 8.0 Epsilon: 0.018859834752883484\n",
            "Episode: 28 Reward: 8.0 Epsilon: 0.01884128627502954\n",
            "Episode: 29 Reward: 16.0 Epsilon: 0.018806354963869877\n",
            "Episode: 30 Reward: 39.0 Epsilon: 0.018724701010756545\n",
            "Episode: 31 Reward: 21.0 Epsilon: 0.0186801108709653\n",
            "Episode: 32 Reward: 22.0 Epsilon: 0.018633734791423204\n",
            "Episode: 33 Reward: 20.0 Epsilon: 0.018591605378568563\n",
            "New best mean: 23.6\n",
            "Episode: 34 Reward: 9.0 Epsilon: 0.0185716152409183\n",
            "Episode: 35 Reward: 10.0 Epsilon: 0.018549679187756934\n",
            "Episode: 36 Reward: 17.0 Epsilon: 0.01851390345772428\n",
            "Episode: 37 Reward: 31.0 Epsilon: 0.018450667128846833\n",
            "Episode: 38 Reward: 21.0 Epsilon: 0.018407461648896978\n",
            "Episode: 39 Reward: 36.0 Epsilon: 0.018335289651265293\n",
            "Episode: 40 Reward: 8.0 Epsilon: 0.018317827076608124\n",
            "Episode: 41 Reward: 8.0 Epsilon: 0.01830040065263769\n",
            "Episode: 42 Reward: 8.0 Epsilon: 0.018283010304515526\n",
            "Episode: 43 Reward: 8.0 Epsilon: 0.018265655957558104\n",
            "Episode: 44 Reward: 8.0 Epsilon: 0.0182483375372365\n",
            "Episode: 45 Reward: 9.0 Epsilon: 0.01822913689371308\n",
            "Episode: 46 Reward: 7.0 Epsilon: 0.018213808179156223\n",
            "Episode: 47 Reward: 9.0 Epsilon: 0.01819468695095263\n",
            "Episode: 48 Reward: 9.0 Epsilon: 0.018175609700353534\n",
            "Episode: 49 Reward: 16.0 Epsilon: 0.018143279016759804\n",
            "Episode: 50 Reward: 15.0 Epsilon: 0.018112965528345543\n",
            "Episode: 51 Reward: 34.0 Epsilon: 0.018047042840208395\n",
            "Episode: 52 Reward: 40.0 Epsilon: 0.017970491789118657\n",
            "Episode: 53 Reward: 21.0 Epsilon: 0.017929712576698627\n",
            "New best mean: 25.2\n",
            "Episode: 54 Reward: 20.0 Epsilon: 0.017890979195810987\n",
            "New best mean: 26.0\n",
            "Episode: 55 Reward: 25.0 Epsilon: 0.017843282347242813\n",
            "New best mean: 28.0\n",
            "Episode: 56 Reward: 31.0 Epsilon: 0.017784969177453775\n",
            "Episode: 57 Reward: 73.0 Epsilon: 0.017651754320690806\n",
            "New best mean: 34.0\n",
            "Episode: 58 Reward: 90.0 Epsilon: 0.017491017628812527\n",
            "New best mean: 47.8\n",
            "Episode: 59 Reward: 34.0 Epsilon: 0.017430087105475896\n",
            "New best mean: 50.6\n",
            "Episode: 60 Reward: 43.0 Epsilon: 0.017354182133789905\n",
            "New best mean: 54.2\n",
            "Episode: 61 Reward: 48.0 Epsilon: 0.017270551753379344\n",
            "New best mean: 57.6\n",
            "Episode: 62 Reward: 26.0 Epsilon: 0.0172248713266504\n",
            "Episode: 63 Reward: 61.0 Epsilon: 0.017121044144820456\n",
            "Episode: 64 Reward: 31.0 Epsilon: 0.017068033065160516\n",
            "Episode: 65 Reward: 50.0 Epsilon: 0.016984349849515065\n",
            "Episode: 66 Reward: 29.0 Epsilon: 0.016935581528181837\n",
            "Episode: 67 Reward: 100.0 Epsilon: 0.01677384919590323\n",
            "Episode: 68 Reward: 28.0 Epsilon: 0.01672810199846873\n",
            "Episode: 69 Reward: 54.0 Epsilon: 0.01664217467576244\n",
            "Episode: 70 Reward: 41.0 Epsilon: 0.01657728633464277\n",
            "Episode: 71 Reward: 26.0 Epsilon: 0.016535902555061006\n",
            "Episode: 72 Reward: 26.0 Epsilon: 0.01649477525949485\n",
            "Episode: 73 Reward: 33.0 Epsilon: 0.01644334772373758\n",
            "Episode: 74 Reward: 61.0 Epsilon: 0.01635059833284832\n",
            "Episode: 75 Reward: 29.0 Epsilon: 0.016306192726268983\n",
            "Episode: 76 Reward: 33.0 Epsilon: 0.01625623579937844\n",
            "Episode: 77 Reward: 40.0 Epsilon: 0.01619651148701626\n",
            "Episode: 78 Reward: 35.0 Epsilon: 0.016144533502805022\n",
            "Episode: 79 Reward: 43.0 Epsilon: 0.016081587200579915\n",
            "Episode: 80 Reward: 51.0 Epsilon: 0.01600801366500168\n",
            "Episode: 81 Reward: 45.0 Epsilon: 0.015943659664361794\n",
            "Episode: 82 Reward: 41.0 Epsilon: 0.015885494002869496\n",
            "Episode: 83 Reward: 68.0 Epsilon: 0.015791148903295416\n",
            "Episode: 84 Reward: 28.0 Epsilon: 0.01575194182378082\n",
            "Episode: 85 Reward: 52.0 Epsilon: 0.015680960474057183\n",
            "Episode: 86 Reward: 37.0 Epsilon: 0.015630598740537325\n",
            "Episode: 87 Reward: 44.0 Epsilon: 0.01557152694860832\n",
            "Episode: 88 Reward: 31.0 Epsilon: 0.015529891173942434\n",
            "Episode: 89 Reward: 74.0 Epsilon: 0.015433501092157366\n",
            "Episode: 90 Reward: 68.0 Epsilon: 0.015346280436471701\n",
            "Episode: 91 Reward: 231.0 Epsilon: 0.015062974736975886\n",
            "New best mean: 89.6\n",
            "Episode: 92 Reward: 88.0 Epsilon: 0.01495824662003114\n",
            "New best mean: 98.4\n",
            "Episode: 93 Reward: 36.0 Epsilon: 0.014915335611066591\n",
            "New best mean: 99.4\n",
            "Episode: 94 Reward: 62.0 Epsilon: 0.014843106869868354\n",
            "Episode: 95 Reward: 169.0 Epsilon: 0.014653352259428053\n",
            "New best mean: 117.2\n",
            "Episode: 96 Reward: 45.0 Epsilon: 0.01460327096440778\n",
            "Episode: 97 Reward: 38.0 Epsilon: 0.01456122428001887\n",
            "Episode: 98 Reward: 76.0 Epsilon: 0.01447930953151744\n",
            "Episode: 99 Reward: 265.0 Epsilon: 0.014207249209819748\n",
            "New best mean: 118.6\n",
            "Episode: 100 Reward: 87.0 Epsilon: 0.014120850791798844\n",
            "Episode: 101 Reward: 48.0 Epsilon: 0.014073495984653172\n",
            "Episode: 102 Reward: 69.0 Epsilon: 0.014006766398748219\n",
            "Episode: 103 Reward: 48.0 Epsilon: 0.013960691533656346\n",
            "Episode: 104 Reward: 57.0 Epsilon: 0.013906821541822111\n",
            "Episode: 105 Reward: 46.0 Epsilon: 0.013863692911508105\n",
            "Episode: 106 Reward: 52.0 Epsilon: 0.013815615148396116\n",
            "Episode: 107 Reward: 92.0 Epsilon: 0.013732657404000346\n",
            "Episode: 108 Reward: 302.0 Epsilon: 0.013474374062644809\n",
            "Episode: 109 Reward: 195.0 Epsilon: 0.013316646128138224\n",
            "New best mean: 137.4\n",
            "Episode: 110 Reward: 242.0 Epsilon: 0.01313072505689288\n",
            "New best mean: 176.6\n",
            "Episode: 111 Reward: 160.0 Epsilon: 0.013013149665447022\n",
            "New best mean: 198.2\n",
            "Episode: 112 Reward: 338.0 Epsilon: 0.012779386737807976\n",
            "New best mean: 247.4\n",
            "Episode: 113 Reward: 131.0 Epsilon: 0.012693186922253972\n",
            "Episode: 114 Reward: 175.0 Epsilon: 0.012582254607608496\n",
            "Episode: 115 Reward: 128.0 Epsilon: 0.012503754298938735\n",
            "Episode: 116 Reward: 405.0 Epsilon: 0.012271373705661656\n",
            "Episode: 117 Reward: 109.0 Epsilon: 0.012212064790175595\n",
            "Episode: 118 Reward: 292.0 Epsilon: 0.012061225086571403\n",
            "Episode: 119 Reward: 500.0 Epsilon: 0.011826193885924948\n",
            "New best mean: 286.8\n",
            "Episode: 120 Reward: 500.0 Epsilon: 0.011616722107858095\n",
            "New best mean: 361.2\n",
            "Episode: 121 Reward: 234.0 Epsilon: 0.011526297521013409\n",
            "Episode: 122 Reward: 216.0 Epsilon: 0.01144703450394792\n",
            "Episode: 123 Reward: 223.0 Epsilon: 0.011369264549362304\n",
            "Episode: 124 Reward: 200.0 Epsilon: 0.011302813704561957\n",
            "Episode: 125 Reward: 152.0 Epsilon: 0.01125425360392331\n",
            "Episode: 126 Reward: 236.0 Epsilon: 0.011182330582656021\n",
            "Episode: 127 Reward: 348.0 Epsilon: 0.011083313992474461\n",
            "Episode: 128 Reward: 288.0 Epsilon: 0.011007133520425521\n",
            "Episode: 129 Reward: 147.0 Epsilon: 0.010970039968734902\n",
            "Episode: 130 Reward: 500.0 Epsilon: 0.010853674125975585\n",
            "Episode: 131 Reward: 236.0 Epsilon: 0.010803025470328007\n",
            "Episode: 132 Reward: 203.0 Epsilon: 0.010761588711066142\n",
            "Episode: 133 Reward: 345.0 Epsilon: 0.010695609572930021\n",
            "Episode: 134 Reward: 231.0 Epsilon: 0.01065422339584757\n",
            "Episode: 135 Reward: 202.0 Epsilon: 0.010619780372802699\n",
            "Episode: 136 Reward: 376.0 Epsilon: 0.010559933234263564\n",
            "Episode: 137 Reward: 291.0 Epsilon: 0.010517021077743846\n",
            "Episode: 138 Reward: 341.0 Epsilon: 0.010470295572572064\n",
            "Episode: 139 Reward: 348.0 Epsilon: 0.010426259562080318\n",
            "Episode: 140 Reward: 415.0 Epsilon: 0.010378189460665908\n",
            "Episode: 141 Reward: 224.0 Epsilon: 0.010354046152604848\n",
            "Episode: 142 Reward: 259.0 Epsilon: 0.010327661347479727\n",
            "Episode: 143 Reward: 372.0 Epsilon: 0.01029246415735346\n",
            "Episode: 144 Reward: 321.0 Epsilon: 0.010264418150788861\n",
            "Episode: 145 Reward: 500.0 Epsilon: 0.010224788018763538\n",
            "Episode: 146 Reward: 325.0 Epsilon: 0.010201300602418611\n",
            "Episode: 147 Reward: 337.0 Epsilon: 0.010178740452032377\n",
            "New best mean: 371.0\n",
            "Episode: 148 Reward: 342.0 Epsilon: 0.010157572800542521\n",
            "Episode: 149 Reward: 248.0 Epsilon: 0.010143220400907382\n",
            "Episode: 150 Reward: 380.0 Epsilon: 0.010122792209218492\n",
            "Episode: 151 Reward: 320.0 Epsilon: 0.01010691882329489\n",
            "Episode: 152 Reward: 312.0 Epsilon: 0.010092530704507769\n",
            "Episode: 153 Reward: 393.0 Epsilon: 0.010075832843743474\n",
            "Episode: 154 Reward: 300.0 Epsilon: 0.010064058977319955\n",
            "Episode: 155 Reward: 277.0 Epsilon: 0.010053886314981995\n",
            "Episode: 156 Reward: 398.0 Epsilon: 0.010040378306870724\n",
            "Episode: 157 Reward: 336.0 Epsilon: 0.010029897262889786\n",
            "Episode: 158 Reward: 460.0 Epsilon: 0.010016815372986133\n",
            "Episode: 159 Reward: 500.0 Epsilon: 0.010004111810762334\n",
            "New best mean: 394.2\n"
          ],
          "name": "stdout"
        },
        {
          "output_type": "error",
          "ename": "KeyboardInterrupt",
          "evalue": "ignored",
          "traceback": [
            "\u001b[0;31m---------------------------------------------------------------------------\u001b[0m",
            "\u001b[0;31mKeyboardInterrupt\u001b[0m                         Traceback (most recent call last)",
            "\u001b[0;32m<ipython-input-73-e4c89c0cf49f>\u001b[0m in \u001b[0;36m<module>\u001b[0;34m()\u001b[0m\n\u001b[1;32m      1\u001b[0m \u001b[0magent\u001b[0m \u001b[0;34m=\u001b[0m \u001b[0mAgent\u001b[0m\u001b[0;34m(\u001b[0m\u001b[0menv\u001b[0m\u001b[0;34m,\u001b[0m \u001b[0mstrategy\u001b[0m\u001b[0;34m=\u001b[0m\u001b[0mEGreedyExpStrategy\u001b[0m\u001b[0;34m(\u001b[0m\u001b[0minit_epsilon\u001b[0m\u001b[0;34m=\u001b[0m\u001b[0;36m0.02\u001b[0m\u001b[0;34m,\u001b[0m \u001b[0mmin_epsilon\u001b[0m\u001b[0;34m=\u001b[0m\u001b[0;36m0.01\u001b[0m\u001b[0;34m)\u001b[0m\u001b[0;34m)\u001b[0m\u001b[0;34m\u001b[0m\u001b[0;34m\u001b[0m\u001b[0m\n\u001b[0;32m----> 2\u001b[0;31m \u001b[0magent\u001b[0m\u001b[0;34m.\u001b[0m\u001b[0mtrain\u001b[0m\u001b[0;34m(\u001b[0m\u001b[0mnum_episodes\u001b[0m\u001b[0;34m=\u001b[0m\u001b[0;36m1000\u001b[0m\u001b[0;34m)\u001b[0m\u001b[0;34m\u001b[0m\u001b[0;34m\u001b[0m\u001b[0m\n\u001b[0m",
            "\u001b[0;32m<ipython-input-71-94179becf24b>\u001b[0m in \u001b[0;36mtrain\u001b[0;34m(self, num_episodes)\u001b[0m\n\u001b[1;32m     54\u001b[0m \u001b[0;34m\u001b[0m\u001b[0m\n\u001b[1;32m     55\u001b[0m                 \u001b[0mself\u001b[0m\u001b[0;34m.\u001b[0m\u001b[0mremember\u001b[0m\u001b[0;34m(\u001b[0m\u001b[0mstate\u001b[0m\u001b[0;34m,\u001b[0m \u001b[0maction\u001b[0m\u001b[0;34m,\u001b[0m \u001b[0mreward\u001b[0m\u001b[0;34m,\u001b[0m \u001b[0mnext_state\u001b[0m\u001b[0;34m,\u001b[0m \u001b[0mdone\u001b[0m\u001b[0;34m)\u001b[0m\u001b[0;34m\u001b[0m\u001b[0;34m\u001b[0m\u001b[0m\n\u001b[0;32m---> 56\u001b[0;31m                 \u001b[0mself\u001b[0m\u001b[0;34m.\u001b[0m\u001b[0mreplay\u001b[0m\u001b[0;34m(\u001b[0m\u001b[0;34m)\u001b[0m\u001b[0;34m\u001b[0m\u001b[0;34m\u001b[0m\u001b[0m\n\u001b[0m\u001b[1;32m     57\u001b[0m                 \u001b[0mtotal_reward\u001b[0m \u001b[0;34m+=\u001b[0m \u001b[0mreward\u001b[0m\u001b[0;34m\u001b[0m\u001b[0;34m\u001b[0m\u001b[0m\n\u001b[1;32m     58\u001b[0m                 \u001b[0mstate\u001b[0m \u001b[0;34m=\u001b[0m \u001b[0mnext_state\u001b[0m\u001b[0;34m\u001b[0m\u001b[0;34m\u001b[0m\u001b[0m\n",
            "\u001b[0;32m<ipython-input-71-94179becf24b>\u001b[0m in \u001b[0;36mreplay\u001b[0;34m(self)\u001b[0m\n\u001b[1;32m    108\u001b[0m                 \u001b[0mq_values\u001b[0m\u001b[0;34m[\u001b[0m\u001b[0mi\u001b[0m\u001b[0;34m]\u001b[0m\u001b[0;34m[\u001b[0m\u001b[0ma\u001b[0m\u001b[0;34m]\u001b[0m \u001b[0;34m=\u001b[0m \u001b[0mrewards\u001b[0m\u001b[0;34m[\u001b[0m\u001b[0mi\u001b[0m\u001b[0;34m]\u001b[0m \u001b[0;34m+\u001b[0m \u001b[0mself\u001b[0m\u001b[0;34m.\u001b[0m\u001b[0mgamma\u001b[0m \u001b[0;34m*\u001b[0m \u001b[0mnp\u001b[0m\u001b[0;34m.\u001b[0m\u001b[0mmax\u001b[0m\u001b[0;34m(\u001b[0m\u001b[0mq_values_next\u001b[0m\u001b[0;34m[\u001b[0m\u001b[0mi\u001b[0m\u001b[0;34m]\u001b[0m\u001b[0;34m)\u001b[0m\u001b[0;34m\u001b[0m\u001b[0;34m\u001b[0m\u001b[0m\n\u001b[1;32m    109\u001b[0m \u001b[0;34m\u001b[0m\u001b[0m\n\u001b[0;32m--> 110\u001b[0;31m         \u001b[0mself\u001b[0m\u001b[0;34m.\u001b[0m\u001b[0mdqn\u001b[0m\u001b[0;34m.\u001b[0m\u001b[0mfit\u001b[0m\u001b[0;34m(\u001b[0m\u001b[0mstates\u001b[0m\u001b[0;34m,\u001b[0m \u001b[0mq_values\u001b[0m\u001b[0;34m)\u001b[0m\u001b[0;34m\u001b[0m\u001b[0;34m\u001b[0m\u001b[0m\n\u001b[0m\u001b[1;32m    111\u001b[0m \u001b[0;34m\u001b[0m\u001b[0m\n\u001b[1;32m    112\u001b[0m \u001b[0;34m\u001b[0m\u001b[0m\n",
            "\u001b[0;32m<ipython-input-72-a8199337397d>\u001b[0m in \u001b[0;36mfit\u001b[0;34m(self, states, q_values)\u001b[0m\n\u001b[1;32m     30\u001b[0m \u001b[0;34m\u001b[0m\u001b[0m\n\u001b[1;32m     31\u001b[0m     \u001b[0;32mdef\u001b[0m \u001b[0mfit\u001b[0m\u001b[0;34m(\u001b[0m\u001b[0mself\u001b[0m\u001b[0;34m,\u001b[0m \u001b[0mstates\u001b[0m\u001b[0;34m:\u001b[0m \u001b[0mnp\u001b[0m\u001b[0;34m.\u001b[0m\u001b[0mndarray\u001b[0m\u001b[0;34m,\u001b[0m \u001b[0mq_values\u001b[0m\u001b[0;34m:\u001b[0m \u001b[0mnp\u001b[0m\u001b[0;34m.\u001b[0m\u001b[0mndarray\u001b[0m\u001b[0;34m)\u001b[0m\u001b[0;34m:\u001b[0m\u001b[0;34m\u001b[0m\u001b[0;34m\u001b[0m\u001b[0m\n\u001b[0;32m---> 32\u001b[0;31m         \u001b[0mself\u001b[0m\u001b[0;34m.\u001b[0m\u001b[0minternal_model\u001b[0m\u001b[0;34m.\u001b[0m\u001b[0mfit\u001b[0m\u001b[0;34m(\u001b[0m\u001b[0mx\u001b[0m\u001b[0;34m=\u001b[0m\u001b[0mstates\u001b[0m\u001b[0;34m,\u001b[0m \u001b[0my\u001b[0m\u001b[0;34m=\u001b[0m\u001b[0mq_values\u001b[0m\u001b[0;34m,\u001b[0m \u001b[0mverbose\u001b[0m\u001b[0;34m=\u001b[0m\u001b[0;36m0\u001b[0m\u001b[0;34m)\u001b[0m\u001b[0;34m\u001b[0m\u001b[0;34m\u001b[0m\u001b[0m\n\u001b[0m\u001b[1;32m     33\u001b[0m \u001b[0;34m\u001b[0m\u001b[0m\n\u001b[1;32m     34\u001b[0m     \u001b[0;32mdef\u001b[0m \u001b[0mupdate_model\u001b[0m\u001b[0;34m(\u001b[0m\u001b[0mself\u001b[0m\u001b[0;34m,\u001b[0m \u001b[0mother_model\u001b[0m\u001b[0;34m:\u001b[0m \u001b[0mModel\u001b[0m\u001b[0;34m)\u001b[0m\u001b[0;34m:\u001b[0m\u001b[0;34m\u001b[0m\u001b[0;34m\u001b[0m\u001b[0m\n",
            "\u001b[0;32m/usr/local/lib/python3.7/dist-packages/tensorflow/python/keras/engine/training.py\u001b[0m in \u001b[0;36mfit\u001b[0;34m(self, x, y, batch_size, epochs, verbose, callbacks, validation_split, validation_data, shuffle, class_weight, sample_weight, initial_epoch, steps_per_epoch, validation_steps, validation_batch_size, validation_freq, max_queue_size, workers, use_multiprocessing)\u001b[0m\n\u001b[1;32m   1086\u001b[0m           self._maybe_load_initial_epoch_from_ckpt(initial_epoch))\n\u001b[1;32m   1087\u001b[0m       \u001b[0mlogs\u001b[0m \u001b[0;34m=\u001b[0m \u001b[0;32mNone\u001b[0m\u001b[0;34m\u001b[0m\u001b[0;34m\u001b[0m\u001b[0m\n\u001b[0;32m-> 1088\u001b[0;31m       \u001b[0;32mfor\u001b[0m \u001b[0mepoch\u001b[0m\u001b[0;34m,\u001b[0m \u001b[0miterator\u001b[0m \u001b[0;32min\u001b[0m \u001b[0mdata_handler\u001b[0m\u001b[0;34m.\u001b[0m\u001b[0menumerate_epochs\u001b[0m\u001b[0;34m(\u001b[0m\u001b[0;34m)\u001b[0m\u001b[0;34m:\u001b[0m\u001b[0;34m\u001b[0m\u001b[0;34m\u001b[0m\u001b[0m\n\u001b[0m\u001b[1;32m   1089\u001b[0m         \u001b[0mself\u001b[0m\u001b[0;34m.\u001b[0m\u001b[0mreset_metrics\u001b[0m\u001b[0;34m(\u001b[0m\u001b[0;34m)\u001b[0m\u001b[0;34m\u001b[0m\u001b[0;34m\u001b[0m\u001b[0m\n\u001b[1;32m   1090\u001b[0m         \u001b[0mcallbacks\u001b[0m\u001b[0;34m.\u001b[0m\u001b[0mon_epoch_begin\u001b[0m\u001b[0;34m(\u001b[0m\u001b[0mepoch\u001b[0m\u001b[0;34m)\u001b[0m\u001b[0;34m\u001b[0m\u001b[0;34m\u001b[0m\u001b[0m\n",
            "\u001b[0;32m/usr/local/lib/python3.7/dist-packages/tensorflow/python/keras/engine/data_adapter.py\u001b[0m in \u001b[0;36menumerate_epochs\u001b[0;34m(self)\u001b[0m\n\u001b[1;32m   1131\u001b[0m     \u001b[0;34m\"\"\"Yields `(epoch, tf.data.Iterator)`.\"\"\"\u001b[0m\u001b[0;34m\u001b[0m\u001b[0;34m\u001b[0m\u001b[0m\n\u001b[1;32m   1132\u001b[0m     \u001b[0;32mwith\u001b[0m \u001b[0mself\u001b[0m\u001b[0;34m.\u001b[0m\u001b[0m_truncate_execution_to_epoch\u001b[0m\u001b[0;34m(\u001b[0m\u001b[0;34m)\u001b[0m\u001b[0;34m:\u001b[0m\u001b[0;34m\u001b[0m\u001b[0;34m\u001b[0m\u001b[0m\n\u001b[0;32m-> 1133\u001b[0;31m       \u001b[0mdata_iterator\u001b[0m \u001b[0;34m=\u001b[0m \u001b[0miter\u001b[0m\u001b[0;34m(\u001b[0m\u001b[0mself\u001b[0m\u001b[0;34m.\u001b[0m\u001b[0m_dataset\u001b[0m\u001b[0;34m)\u001b[0m\u001b[0;34m\u001b[0m\u001b[0;34m\u001b[0m\u001b[0m\n\u001b[0m\u001b[1;32m   1134\u001b[0m       \u001b[0;32mfor\u001b[0m \u001b[0mepoch\u001b[0m \u001b[0;32min\u001b[0m \u001b[0mrange\u001b[0m\u001b[0;34m(\u001b[0m\u001b[0mself\u001b[0m\u001b[0;34m.\u001b[0m\u001b[0m_initial_epoch\u001b[0m\u001b[0;34m,\u001b[0m \u001b[0mself\u001b[0m\u001b[0;34m.\u001b[0m\u001b[0m_epochs\u001b[0m\u001b[0;34m)\u001b[0m\u001b[0;34m:\u001b[0m\u001b[0;34m\u001b[0m\u001b[0;34m\u001b[0m\u001b[0m\n\u001b[1;32m   1135\u001b[0m         \u001b[0;32mif\u001b[0m \u001b[0mself\u001b[0m\u001b[0;34m.\u001b[0m\u001b[0m_insufficient_data\u001b[0m\u001b[0;34m:\u001b[0m  \u001b[0;31m# Set by `catch_stop_iteration`.\u001b[0m\u001b[0;34m\u001b[0m\u001b[0;34m\u001b[0m\u001b[0m\n",
            "\u001b[0;32m/usr/local/lib/python3.7/dist-packages/tensorflow/python/data/ops/dataset_ops.py\u001b[0m in \u001b[0;36m__iter__\u001b[0;34m(self)\u001b[0m\n\u001b[1;32m    420\u001b[0m     \u001b[0;32mif\u001b[0m \u001b[0mcontext\u001b[0m\u001b[0;34m.\u001b[0m\u001b[0mexecuting_eagerly\u001b[0m\u001b[0;34m(\u001b[0m\u001b[0;34m)\u001b[0m \u001b[0;32mor\u001b[0m \u001b[0mops\u001b[0m\u001b[0;34m.\u001b[0m\u001b[0minside_function\u001b[0m\u001b[0;34m(\u001b[0m\u001b[0;34m)\u001b[0m\u001b[0;34m:\u001b[0m\u001b[0;34m\u001b[0m\u001b[0;34m\u001b[0m\u001b[0m\n\u001b[1;32m    421\u001b[0m       \u001b[0;32mwith\u001b[0m \u001b[0mops\u001b[0m\u001b[0;34m.\u001b[0m\u001b[0mcolocate_with\u001b[0m\u001b[0;34m(\u001b[0m\u001b[0mself\u001b[0m\u001b[0;34m.\u001b[0m\u001b[0m_variant_tensor\u001b[0m\u001b[0;34m)\u001b[0m\u001b[0;34m:\u001b[0m\u001b[0;34m\u001b[0m\u001b[0;34m\u001b[0m\u001b[0m\n\u001b[0;32m--> 422\u001b[0;31m         \u001b[0;32mreturn\u001b[0m \u001b[0miterator_ops\u001b[0m\u001b[0;34m.\u001b[0m\u001b[0mOwnedIterator\u001b[0m\u001b[0;34m(\u001b[0m\u001b[0mself\u001b[0m\u001b[0;34m)\u001b[0m\u001b[0;34m\u001b[0m\u001b[0;34m\u001b[0m\u001b[0m\n\u001b[0m\u001b[1;32m    423\u001b[0m     \u001b[0;32melse\u001b[0m\u001b[0;34m:\u001b[0m\u001b[0;34m\u001b[0m\u001b[0;34m\u001b[0m\u001b[0m\n\u001b[1;32m    424\u001b[0m       raise RuntimeError(\"__iter__() is only supported inside of tf.function \"\n",
            "\u001b[0;32m/usr/local/lib/python3.7/dist-packages/tensorflow/python/data/ops/iterator_ops.py\u001b[0m in \u001b[0;36m__init__\u001b[0;34m(self, dataset, components, element_spec)\u001b[0m\n\u001b[1;32m    680\u001b[0m       \u001b[0;32mif\u001b[0m \u001b[0;34m(\u001b[0m\u001b[0mcomponents\u001b[0m \u001b[0;32mis\u001b[0m \u001b[0;32mnot\u001b[0m \u001b[0;32mNone\u001b[0m \u001b[0;32mor\u001b[0m \u001b[0melement_spec\u001b[0m \u001b[0;32mis\u001b[0m \u001b[0;32mnot\u001b[0m \u001b[0;32mNone\u001b[0m\u001b[0;34m)\u001b[0m\u001b[0;34m:\u001b[0m\u001b[0;34m\u001b[0m\u001b[0;34m\u001b[0m\u001b[0m\n\u001b[1;32m    681\u001b[0m         \u001b[0;32mraise\u001b[0m \u001b[0mValueError\u001b[0m\u001b[0;34m(\u001b[0m\u001b[0merror_message\u001b[0m\u001b[0;34m)\u001b[0m\u001b[0;34m\u001b[0m\u001b[0;34m\u001b[0m\u001b[0m\n\u001b[0;32m--> 682\u001b[0;31m       \u001b[0mself\u001b[0m\u001b[0;34m.\u001b[0m\u001b[0m_create_iterator\u001b[0m\u001b[0;34m(\u001b[0m\u001b[0mdataset\u001b[0m\u001b[0;34m)\u001b[0m\u001b[0;34m\u001b[0m\u001b[0;34m\u001b[0m\u001b[0m\n\u001b[0m\u001b[1;32m    683\u001b[0m \u001b[0;34m\u001b[0m\u001b[0m\n\u001b[1;32m    684\u001b[0m   \u001b[0;32mdef\u001b[0m \u001b[0m_create_iterator\u001b[0m\u001b[0;34m(\u001b[0m\u001b[0mself\u001b[0m\u001b[0;34m,\u001b[0m \u001b[0mdataset\u001b[0m\u001b[0;34m)\u001b[0m\u001b[0;34m:\u001b[0m\u001b[0;34m\u001b[0m\u001b[0;34m\u001b[0m\u001b[0m\n",
            "\u001b[0;32m/usr/local/lib/python3.7/dist-packages/tensorflow/python/data/ops/iterator_ops.py\u001b[0m in \u001b[0;36m_create_iterator\u001b[0;34m(self, dataset)\u001b[0m\n\u001b[1;32m    703\u001b[0m               \u001b[0moutput_types\u001b[0m\u001b[0;34m=\u001b[0m\u001b[0mself\u001b[0m\u001b[0;34m.\u001b[0m\u001b[0m_flat_output_types\u001b[0m\u001b[0;34m,\u001b[0m\u001b[0;34m\u001b[0m\u001b[0;34m\u001b[0m\u001b[0m\n\u001b[1;32m    704\u001b[0m               output_shapes=self._flat_output_shapes))\n\u001b[0;32m--> 705\u001b[0;31m       \u001b[0mgen_dataset_ops\u001b[0m\u001b[0;34m.\u001b[0m\u001b[0mmake_iterator\u001b[0m\u001b[0;34m(\u001b[0m\u001b[0mds_variant\u001b[0m\u001b[0;34m,\u001b[0m \u001b[0mself\u001b[0m\u001b[0;34m.\u001b[0m\u001b[0m_iterator_resource\u001b[0m\u001b[0;34m)\u001b[0m\u001b[0;34m\u001b[0m\u001b[0;34m\u001b[0m\u001b[0m\n\u001b[0m\u001b[1;32m    706\u001b[0m       \u001b[0;31m# Delete the resource when this object is deleted\u001b[0m\u001b[0;34m\u001b[0m\u001b[0;34m\u001b[0m\u001b[0;34m\u001b[0m\u001b[0m\n\u001b[1;32m    707\u001b[0m       self._resource_deleter = IteratorResourceDeleter(\n",
            "\u001b[0;32m/usr/local/lib/python3.7/dist-packages/tensorflow/python/ops/gen_dataset_ops.py\u001b[0m in \u001b[0;36mmake_iterator\u001b[0;34m(dataset, iterator, name)\u001b[0m\n\u001b[1;32m   2970\u001b[0m     \u001b[0;32mtry\u001b[0m\u001b[0;34m:\u001b[0m\u001b[0;34m\u001b[0m\u001b[0;34m\u001b[0m\u001b[0m\n\u001b[1;32m   2971\u001b[0m       _result = pywrap_tfe.TFE_Py_FastPathExecute(\n\u001b[0;32m-> 2972\u001b[0;31m         _ctx, \"MakeIterator\", name, dataset, iterator)\n\u001b[0m\u001b[1;32m   2973\u001b[0m       \u001b[0;32mreturn\u001b[0m \u001b[0m_result\u001b[0m\u001b[0;34m\u001b[0m\u001b[0;34m\u001b[0m\u001b[0m\n\u001b[1;32m   2974\u001b[0m     \u001b[0;32mexcept\u001b[0m \u001b[0m_core\u001b[0m\u001b[0;34m.\u001b[0m\u001b[0m_NotOkStatusException\u001b[0m \u001b[0;32mas\u001b[0m \u001b[0me\u001b[0m\u001b[0;34m:\u001b[0m\u001b[0;34m\u001b[0m\u001b[0;34m\u001b[0m\u001b[0m\n",
            "\u001b[0;31mKeyboardInterrupt\u001b[0m: "
          ]
        }
      ]
    },
    {
      "cell_type": "markdown",
      "metadata": {
        "id": "MxRd_lwnzcY-"
      },
      "source": [
        "####**Aufgabe 6.6:** Übergeben Sie ein ```GreedyStrategy``` Objekt (ohne Parameter) an den ```strategy``` Parameter des Agent-Konstruktors und spielen Sie **20 Episoden**. Der Reward der zumindest einigen Episoden soll 500 betragen."
      ]
    },
    {
      "cell_type": "markdown",
      "metadata": {
        "id": "siVg0LFkfyKX"
      },
      "source": [
        "**Play**"
      ]
    },
    {
      "cell_type": "code",
      "metadata": {
        "id": "oImhhRCoKDl3",
        "colab": {
          "base_uri": "https://localhost:8080/"
        },
        "outputId": "5488d429-30c1-479f-8aa1-3b8fba0f2be4"
      },
      "source": [
        "agent = Agent(env, strategy=GreedyStrategy())\n",
        "agent.play(20)"
      ],
      "execution_count": null,
      "outputs": [
        {
          "output_type": "stream",
          "text": [
            "Episode: 1 Reward: 260.0\n",
            "Episode: 2 Reward: 500.0\n",
            "Episode: 3 Reward: 262.0\n",
            "Episode: 4 Reward: 394.0\n",
            "Episode: 5 Reward: 425.0\n",
            "Episode: 6 Reward: 342.0\n",
            "Episode: 7 Reward: 438.0\n",
            "Episode: 8 Reward: 500.0\n",
            "Episode: 9 Reward: 441.0\n",
            "Episode: 10 Reward: 301.0\n",
            "Episode: 11 Reward: 469.0\n",
            "Episode: 12 Reward: 426.0\n",
            "Episode: 13 Reward: 375.0\n",
            "Episode: 14 Reward: 347.0\n",
            "Episode: 15 Reward: 291.0\n",
            "Episode: 16 Reward: 500.0\n",
            "Episode: 17 Reward: 260.0\n",
            "Episode: 18 Reward: 500.0\n",
            "Episode: 19 Reward: 327.0\n",
            "Episode: 20 Reward: 337.0\n"
          ],
          "name": "stdout"
        }
      ]
    },
    {
      "cell_type": "code",
      "metadata": {
        "id": "6XYHv6RknKUH"
      },
      "source": [
        "# Comment Cédric Moullet: episode 2,8,16 and 18 reaches a 500 !!"
      ],
      "execution_count": null,
      "outputs": []
    },
    {
      "cell_type": "markdown",
      "metadata": {
        "id": "QZzb24cWJtP3"
      },
      "source": [
        "# **Viel Spass und Erfolg!**"
      ]
    },
    {
      "cell_type": "code",
      "metadata": {
        "id": "ZWR_dJZqofMs"
      },
      "source": [
        ""
      ],
      "execution_count": null,
      "outputs": []
    }
  ]
}