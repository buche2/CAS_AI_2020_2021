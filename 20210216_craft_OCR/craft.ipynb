{
 "cells": [
  {
   "cell_type": "code",
   "execution_count": null,
   "metadata": {},
   "outputs": [],
   "source": [
    "#!pip install pyjarowinkler"
   ]
  },
  {
   "cell_type": "code",
   "execution_count": null,
   "metadata": {},
   "outputs": [],
   "source": [
    "import glob"
   ]
  },
  {
   "cell_type": "code",
   "execution_count": null,
   "metadata": {},
   "outputs": [],
   "source": [
    "!pwd"
   ]
  },
  {
   "cell_type": "code",
   "execution_count": null,
   "metadata": {},
   "outputs": [],
   "source": [
    "from craft_text_detector import Craft\n",
    "#output_dir = '/path_to/craft_output/'\n",
    "cuda = False"
   ]
  },
  {
   "cell_type": "code",
   "execution_count": null,
   "metadata": {},
   "outputs": [],
   "source": [
    "%cd path_to_images\n",
    "image_filenames = glob.glob('images/*')\n",
    "image_filenames"
   ]
  },
  {
   "cell_type": "code",
   "execution_count": null,
   "metadata": {},
   "outputs": [],
   "source": [
    "craft = Craft(output_dir,\n",
    "              crop_type='poly', \n",
    "              cuda=False, \n",
    "              export_extra=True, \n",
    "              refiner=True,\n",
    "              text_threshold=0.7,\n",
    "              link_threshold=0.4,\n",
    "              low_text=0.4)"
   ]
  },
  {
   "cell_type": "code",
   "execution_count": null,
   "metadata": {},
   "outputs": [],
   "source": [
    "%cd path_to_images\n",
    "\n",
    "for image_filename in image_filenames: \n",
    "    craft.detect_text(image_filename);\n",
    "    print(image_filename)"
   ]
  },
  {
   "cell_type": "code",
   "execution_count": null,
   "metadata": {},
   "outputs": [],
   "source": [
    "# unload models from ram/gpu\n",
    "craft.unload_craftnet_model()\n",
    "craft.unload_refinenet_model()"
   ]
  },
  {
   "cell_type": "code",
   "execution_count": null,
   "metadata": {},
   "outputs": [],
   "source": [
    "#!git clone https://github.com/clovaai/deep-text-recognition-benchmark\n",
    "%cd deep-text-recognition-benchmark"
   ]
  },
  {
   "cell_type": "code",
   "execution_count": null,
   "metadata": {},
   "outputs": [],
   "source": [
    "outputs = []\n"
   ]
  },
  {
   "cell_type": "code",
   "execution_count": null,
   "metadata": {},
   "outputs": [],
   "source": [
    "crop_dir_names = glob.glob('path_to_craft_output/craft_output/*crops')"
   ]
  },
  {
   "cell_type": "code",
   "execution_count": null,
   "metadata": {},
   "outputs": [],
   "source": [
    "for crop_dir_name in crop_dir_names:\n",
    "    output = !CUDA_VISIBLE_DEVICES=0 /Users/iljarasin/opt/anaconda3/envs/YOUR_ENV/bin/python demo.py \\\n",
    "    --Transformation TPS --FeatureExtraction ResNet --SequenceModeling BiLSTM --Prediction Attn --sensitive\\\n",
    "    --image_folder $crop_dir_name \\\n",
    "    --saved_model TPS-ResNet-BiLSTM-Attn-case-sensitive.pth\n",
    "    print(crop_dir_name)\n",
    "    outputs.append(output)"
   ]
  },
  {
   "cell_type": "code",
   "execution_count": null,
   "metadata": {},
   "outputs": [],
   "source": [
    "outputs[2]"
   ]
  },
  {
   "cell_type": "code",
   "execution_count": null,
   "metadata": {},
   "outputs": [],
   "source": [
    "len(outputs)"
   ]
  },
  {
   "cell_type": "code",
   "execution_count": null,
   "metadata": {},
   "outputs": [],
   "source": [
    "from IPython.core.display import display, HTML\n",
    "from PIL import Image\n",
    "import base64\n",
    "import io\n",
    "import pandas as pd\n",
    "\n",
    "appended_data = []\n",
    "\n",
    "for output in outputs[10:30]:\n",
    "    for ind, row in enumerate(output[output.index('image_path               \\tpredicted_labels         \\tconfidence score')+2:]):\n",
    "        row = row.split('\\t')\n",
    "        filename = row[0].strip()\n",
    "        label = row[1].strip()\n",
    "        conf = row[2].strip()\n",
    "        img = Image.open(filename)\n",
    "        img_buffer = io.BytesIO()\n",
    "        img.save(img_buffer, format=\"PNG\")\n",
    "        imgStr = base64.b64encode(img_buffer.getvalue()).decode(\"utf-8\") \n",
    "        data = pd.DataFrame()\n",
    "        data.loc[ind, 'img'] = '<img src=\"data:image/png;base64,{0:s}\">'.format(imgStr)\n",
    "        data.loc[ind, 'id'] = filename\n",
    "        data.loc[ind, 'label'] = label\n",
    "        data.loc[ind, 'conf'] = conf\n",
    "        appended_data.append(data)\n",
    "\n",
    "appended_data = pd.concat(appended_data)\n",
    "html_all = appended_data.to_html(escape=False)\n"
   ]
  },
  {
   "cell_type": "code",
   "execution_count": null,
   "metadata": {},
   "outputs": [],
   "source": [
    "display(HTML(html_all))"
   ]
  },
  {
   "cell_type": "code",
   "execution_count": null,
   "metadata": {},
   "outputs": [],
   "source": [
    "import string\n",
    "string.printable[:-6]"
   ]
  },
  {
   "cell_type": "markdown",
   "metadata": {},
   "source": [
    "1. Brand (e.g. Viajero)\n",
    "2. Color (e.g. red wine)\n",
    "3. Grape (e.g. Cabernet Sauvignon)\n",
    "4. Taste (e.g. dry)\n",
    "5. Region (e.g. Pfalz)\n",
    "6. Country(e.g. Germany)\n",
    "7. Year (e.g. 2015)\n",
    "8. Filling quantity (e.g. 750 ml)\n",
    "9. Type of container/vessel (e.g. bottle, tetra pack)\n",
    "10. Type (e.g. quality wine)\n",
    "11. Description (e.g. german red wine made of Dornfelder grapes from Pfalz)\n",
    "12. Alcohol strength (e.g. 12%)\n",
    "13. Allergens (e.g. contains sulfites)\n",
    "14. EAN"
   ]
  },
  {
   "cell_type": "code",
   "execution_count": null,
   "metadata": {},
   "outputs": [],
   "source": [
    "output"
   ]
  },
  {
   "cell_type": "code",
   "execution_count": null,
   "metadata": {},
   "outputs": [],
   "source": [
    "appended_data.head(10)"
   ]
  },
  {
   "cell_type": "markdown",
   "metadata": {},
   "source": [
    "4. Fine - img (unwrap, rotate, black - white)\n",
    "1. Preproc\n",
    "2. Dict\n",
    "3. Matching\n",
    "\n",
    "4. Fine - img (unwrap, rotate, black - white)"
   ]
  },
  {
   "cell_type": "code",
   "execution_count": null,
   "metadata": {},
   "outputs": [],
   "source": [
    "appended_data.sort_values('conf', ascending=False)"
   ]
  },
  {
   "cell_type": "code",
   "execution_count": null,
   "metadata": {},
   "outputs": [],
   "source": [
    "import numpy as np\n",
    "result = appended_data.copy()\n",
    "col = result['id'].str.split('/')"
   ]
  },
  {
   "cell_type": "code",
   "execution_count": null,
   "metadata": {},
   "outputs": [],
   "source": [
    "col = [np.array(l)[[6,7]] for l in col]"
   ]
  },
  {
   "cell_type": "code",
   "execution_count": null,
   "metadata": {},
   "outputs": [],
   "source": [
    "col = ['-'.join(l) for l in col]"
   ]
  },
  {
   "cell_type": "code",
   "execution_count": null,
   "metadata": {},
   "outputs": [],
   "source": [
    "result.id = col"
   ]
  },
  {
   "cell_type": "code",
   "execution_count": null,
   "metadata": {},
   "outputs": [],
   "source": [
    "result.drop('img', axis=1, inplace=True)"
   ]
  },
  {
   "cell_type": "code",
   "execution_count": null,
   "metadata": {},
   "outputs": [],
   "source": [
    "result.reset_index(inplace=True, drop=True)"
   ]
  },
  {
   "cell_type": "code",
   "execution_count": null,
   "metadata": {},
   "outputs": [],
   "source": [
    "result.head(20)"
   ]
  },
  {
   "cell_type": "code",
   "execution_count": null,
   "metadata": {},
   "outputs": [],
   "source": [
    "#result = result.sort_values('conf', ascending=False)"
   ]
  },
  {
   "cell_type": "code",
   "execution_count": null,
   "metadata": {},
   "outputs": [],
   "source": [
    "result.dtypes"
   ]
  },
  {
   "cell_type": "code",
   "execution_count": null,
   "metadata": {},
   "outputs": [],
   "source": [
    "result.conf = result.conf.astype(float)"
   ]
  },
  {
   "cell_type": "code",
   "execution_count": null,
   "metadata": {},
   "outputs": [],
   "source": [
    "#result = result[result.conf > .4]\n",
    "#result"
   ]
  },
  {
   "cell_type": "code",
   "execution_count": null,
   "metadata": {},
   "outputs": [],
   "source": [
    "# evtl more steps required\n",
    "result['label_cleanup'] = result['label'].str.lower()"
   ]
  },
  {
   "cell_type": "code",
   "execution_count": null,
   "metadata": {},
   "outputs": [],
   "source": [
    "result.head(25)"
   ]
  },
  {
   "cell_type": "markdown",
   "metadata": {},
   "source": [
    "#### Test Hamming Distance"
   ]
  },
  {
   "cell_type": "code",
   "execution_count": null,
   "metadata": {},
   "outputs": [],
   "source": [
    "\n",
    "def hamming(str1, str2):\n",
    "\n",
    "    score = 0\n",
    "\n",
    "    for (a, b) in zip(str1, str2):\n",
    "        a_bits = bin(ord(a))[2:].zfill(8)\n",
    "        b_bits = bin(ord(b))[2:].zfill(8)\n",
    "\n",
    "        score += sum(bx != by for bx, by in zip(a_bits, b_bits))\n",
    "    return score"
   ]
  },
  {
   "cell_type": "code",
   "execution_count": null,
   "metadata": {},
   "outputs": [],
   "source": [
    "# not sufficient accuracy\n",
    "hamming('itl', 'Italy')"
   ]
  },
  {
   "cell_type": "code",
   "execution_count": null,
   "metadata": {},
   "outputs": [],
   "source": [
    "#!pip install xlrd"
   ]
  },
  {
   "cell_type": "code",
   "execution_count": null,
   "metadata": {},
   "outputs": [],
   "source": [
    "%cd path_to_glossars\n",
    "rebsorten = pd.read_excel('Weinglossar.xlsx', sheet_name='Rebsorten')"
   ]
  },
  {
   "cell_type": "code",
   "execution_count": null,
   "metadata": {},
   "outputs": [],
   "source": [
    "rebsorten = rebsorten[['Rebsorten']]"
   ]
  },
  {
   "cell_type": "code",
   "execution_count": null,
   "metadata": {},
   "outputs": [],
   "source": [
    "rebsorten.dropna(axis=0, inplace=True)"
   ]
  },
  {
   "cell_type": "code",
   "execution_count": null,
   "metadata": {},
   "outputs": [],
   "source": [
    "rebsorten.isna().any()"
   ]
  },
  {
   "cell_type": "code",
   "execution_count": null,
   "metadata": {},
   "outputs": [],
   "source": [
    "rebsorten[0:10]"
   ]
  },
  {
   "cell_type": "code",
   "execution_count": null,
   "metadata": {},
   "outputs": [],
   "source": [
    "weinanbaugebiet = pd.read_excel('Weinglossar.xlsx', sheet_name='Weinbaugebiet')"
   ]
  },
  {
   "cell_type": "code",
   "execution_count": null,
   "metadata": {},
   "outputs": [],
   "source": [
    "weinanbaugebiet"
   ]
  },
  {
   "cell_type": "code",
   "execution_count": null,
   "metadata": {},
   "outputs": [],
   "source": [
    "weinanbaugebiet.isna().any()"
   ]
  },
  {
   "cell_type": "code",
   "execution_count": null,
   "metadata": {},
   "outputs": [],
   "source": [
    "glossary = pd.read_excel('glossary.xlsx', sheet_name='Sheet1', index_col='Unnamed: 0')"
   ]
  },
  {
   "cell_type": "code",
   "execution_count": null,
   "metadata": {},
   "outputs": [],
   "source": [
    "glossary.tail(5)"
   ]
  },
  {
   "cell_type": "code",
   "execution_count": null,
   "metadata": {},
   "outputs": [],
   "source": [
    "result.shape"
   ]
  },
  {
   "cell_type": "code",
   "execution_count": null,
   "metadata": {},
   "outputs": [],
   "source": [
    "result['winery'] = ''\n",
    "result['wine'] = ''\n",
    "result['country'] = ''\n",
    "result['alcohol strength'] = ''\n",
    "# Filling quantity\n",
    "result['filling quantity'] = ''\n",
    "# Grape varieties\n",
    "result['grape variety'] = ''\n",
    "result['wine growing area'] = ''\n",
    "result['allergens'] = ''\n",
    "NOT_FOUND = '-'"
   ]
  },
  {
   "cell_type": "markdown",
   "metadata": {},
   "source": [
    "#### Über verschiedene Distance-Types and Jaron-Winkler Distance\n",
    "\n",
    "https://en.wikipedia.org/wiki/Jaro–Winkler_distance"
   ]
  },
  {
   "cell_type": "code",
   "execution_count": null,
   "metadata": {},
   "outputs": [],
   "source": [
    "# good one!!\n",
    "from pyjarowinkler import distance\n",
    "distance.get_jaro_distance(\"enth\", \"enthält\", winkler=True, scaling=0.1)"
   ]
  },
  {
   "cell_type": "code",
   "execution_count": null,
   "metadata": {},
   "outputs": [],
   "source": [
    "result.head(5)"
   ]
  },
  {
   "cell_type": "code",
   "execution_count": null,
   "metadata": {},
   "outputs": [],
   "source": [
    "# regex for percent \\\\d+(?:\\\\.\\\\d+)?%\n",
    "# (\\d+(\\.\\d+)?%)\n",
    "regex_pecent = re.compile('(\\d+(\\.\\d+)?%)') \n"
   ]
  },
  {
   "cell_type": "code",
   "execution_count": null,
   "metadata": {},
   "outputs": [],
   "source": [
    "#test regex\n",
    "np.array(regex_pecent.findall('12%')[0][0])"
   ]
  },
  {
   "cell_type": "code",
   "execution_count": null,
   "metadata": {},
   "outputs": [],
   "source": [
    "alk = [regex_pecent.findall(x)[0][0] if not len(regex_pecent.findall(x))==0 else NOT_FOUND for x in result.label_cleanup]"
   ]
  },
  {
   "cell_type": "code",
   "execution_count": null,
   "metadata": {},
   "outputs": [],
   "source": [
    "np.array(alk)[0:50]"
   ]
  },
  {
   "cell_type": "code",
   "execution_count": null,
   "metadata": {},
   "outputs": [],
   "source": [
    "result['alcohol strength'] = alk\n",
    "result.head(5)"
   ]
  },
  {
   "cell_type": "markdown",
   "metadata": {},
   "source": [
    "#### Test quantulum to extract measures"
   ]
  },
  {
   "cell_type": "code",
   "execution_count": null,
   "metadata": {},
   "outputs": [],
   "source": [
    "#!pip install quantulum3"
   ]
  },
  {
   "cell_type": "code",
   "execution_count": null,
   "metadata": {},
   "outputs": [],
   "source": [
    "# not good for filling quantity\n",
    "from quantulum3 import parser\n",
    "quants = parser.parse('eee250ml')"
   ]
  },
  {
   "cell_type": "code",
   "execution_count": null,
   "metadata": {},
   "outputs": [],
   "source": [
    "quants"
   ]
  },
  {
   "cell_type": "markdown",
   "metadata": {},
   "source": [
    "#### Bad one!"
   ]
  },
  {
   "cell_type": "code",
   "execution_count": null,
   "metadata": {},
   "outputs": [],
   "source": [
    "#r\"[0-9\\.\\s]+(?:mg|kg|ml|q.s.|ui|L|l|M|g|µg)\"\n",
    "regex_ml = re.compile( r\"[0-9\\.|,\\s]+(?:ml|L|l)\" )\n",
    "x = '0,250L'\n",
    "z = regex_ml.findall(x)\n",
    "z"
   ]
  },
  {
   "cell_type": "code",
   "execution_count": null,
   "metadata": {},
   "outputs": [],
   "source": [
    "quantity = [regex_ml.findall(x)[0] if not len(regex_ml.findall(x))==0 else NOT_FOUND for x in result.label_cleanup]"
   ]
  },
  {
   "cell_type": "code",
   "execution_count": null,
   "metadata": {},
   "outputs": [],
   "source": [
    "result['filling quantity'] = quantity"
   ]
  },
  {
   "cell_type": "code",
   "execution_count": null,
   "metadata": {},
   "outputs": [],
   "source": [
    "result.head(5)"
   ]
  },
  {
   "cell_type": "code",
   "execution_count": null,
   "metadata": {},
   "outputs": [],
   "source": [
    "countries = np.unique(np.concatenate((glossary.country.unique(), weinanbaugebiet.Land.unique())))"
   ]
  },
  {
   "cell_type": "code",
   "execution_count": null,
   "metadata": {},
   "outputs": [],
   "source": [
    "countries"
   ]
  },
  {
   "cell_type": "code",
   "execution_count": null,
   "metadata": {},
   "outputs": [],
   "source": [
    "\n",
    "distance.get_jaro_distance(\"250\", \"enthält\", winkler=True, scaling=0.1)"
   ]
  },
  {
   "cell_type": "code",
   "execution_count": null,
   "metadata": {},
   "outputs": [],
   "source": [
    "distance.get_jaro_distance('max', 'maxii', winkler=True, scaling=0.1)"
   ]
  },
  {
   "cell_type": "code",
   "execution_count": null,
   "metadata": {},
   "outputs": [],
   "source": [
    "def get_best_match(label, collection, threshold):\n",
    "    found = NOT_FOUND\n",
    "    distances = []\n",
    "    for elem in collection:\n",
    "        dist = distance.get_jaro_distance(label, elem, winkler=True, scaling=0.1)\n",
    "        distances.append(dist)\n",
    "        \n",
    "    distances = np.array(distances)\n",
    "    print(distances)\n",
    "    dist = max(distances)\n",
    "    print(dist, 'max likelyhood of match')\n",
    "    \n",
    "    if dist > threshold:\n",
    "        index = np.argmax(distances)\n",
    "        print(index, 'index of max distance')\n",
    "        \n",
    "        found = collection[index]\n",
    "        print(found, 'is the matched element')\n",
    "    return found\n",
    "            "
   ]
  },
  {
   "cell_type": "code",
   "execution_count": null,
   "metadata": {},
   "outputs": [],
   "source": [
    "get_best_match('fra', countries, .8)"
   ]
  },
  {
   "cell_type": "code",
   "execution_count": null,
   "metadata": {},
   "outputs": [],
   "source": [
    "countries_matched = [get_best_match(x, countries, .7) for x in result.label_cleanup]"
   ]
  },
  {
   "cell_type": "code",
   "execution_count": null,
   "metadata": {},
   "outputs": [],
   "source": [
    "countries_matched"
   ]
  },
  {
   "cell_type": "code",
   "execution_count": null,
   "metadata": {},
   "outputs": [],
   "source": [
    "result.country = countries_matched"
   ]
  },
  {
   "cell_type": "code",
   "execution_count": null,
   "metadata": {},
   "outputs": [],
   "source": [
    "result.head(50)"
   ]
  },
  {
   "cell_type": "code",
   "execution_count": null,
   "metadata": {},
   "outputs": [],
   "source": [
    "glossary.dtypes"
   ]
  },
  {
   "cell_type": "code",
   "execution_count": null,
   "metadata": {},
   "outputs": [],
   "source": [
    "glossary.Winery.unique()"
   ]
  },
  {
   "cell_type": "code",
   "execution_count": null,
   "metadata": {},
   "outputs": [],
   "source": [
    "winery_matched = [get_best_match(x, glossary.Winery.unique(), .8) for x in result.label_cleanup]"
   ]
  },
  {
   "cell_type": "code",
   "execution_count": null,
   "metadata": {},
   "outputs": [],
   "source": [
    "winery_matched"
   ]
  },
  {
   "cell_type": "code",
   "execution_count": null,
   "metadata": {},
   "outputs": [],
   "source": [
    "result.winery = winery_matched\n",
    "result.head(20)"
   ]
  },
  {
   "cell_type": "code",
   "execution_count": null,
   "metadata": {},
   "outputs": [],
   "source": [
    "glossary.Wine = glossary.Wine.astype(str)"
   ]
  },
  {
   "cell_type": "code",
   "execution_count": null,
   "metadata": {},
   "outputs": [],
   "source": [
    "wine_matched = [get_best_match(x, glossary.Wine.unique(), .8) for x in result.label_cleanup]"
   ]
  },
  {
   "cell_type": "code",
   "execution_count": null,
   "metadata": {},
   "outputs": [],
   "source": [
    "wine_matched[0:20]"
   ]
  },
  {
   "cell_type": "code",
   "execution_count": null,
   "metadata": {},
   "outputs": [],
   "source": [
    "result.wine = wine_matched"
   ]
  },
  {
   "cell_type": "code",
   "execution_count": null,
   "metadata": {},
   "outputs": [],
   "source": [
    "result.head(10)"
   ]
  },
  {
   "cell_type": "code",
   "execution_count": null,
   "metadata": {},
   "outputs": [],
   "source": [
    "grape_variety = [get_best_match(x, rebsorten.Rebsorten.unique(), .7) for x in result.label_cleanup]"
   ]
  },
  {
   "cell_type": "code",
   "execution_count": null,
   "metadata": {},
   "outputs": [],
   "source": [
    "grape_variety"
   ]
  },
  {
   "cell_type": "code",
   "execution_count": null,
   "metadata": {},
   "outputs": [],
   "source": [
    "result['grape variety'] = grape_variety"
   ]
  },
  {
   "cell_type": "code",
   "execution_count": null,
   "metadata": {},
   "outputs": [],
   "source": [
    "result.head(20)"
   ]
  },
  {
   "cell_type": "code",
   "execution_count": null,
   "metadata": {},
   "outputs": [],
   "source": [
    "wine_growing_area = [get_best_match(x, weinanbaugebiet.Weinbaugebiet.unique(), .8) for x in result.label_cleanup]"
   ]
  },
  {
   "cell_type": "code",
   "execution_count": null,
   "metadata": {},
   "outputs": [],
   "source": [
    "result['wine growing area'] = wine_growing_area"
   ]
  },
  {
   "cell_type": "code",
   "execution_count": null,
   "metadata": {},
   "outputs": [],
   "source": [
    "result.head(20)"
   ]
  },
  {
   "cell_type": "code",
   "execution_count": null,
   "metadata": {},
   "outputs": [],
   "source": [
    "allergens = ['enthält Sulfite', 'enthält Schwefeldioxid', 'contains sulphites', 'contains sulphur dioxide']"
   ]
  },
  {
   "cell_type": "markdown",
   "metadata": {},
   "source": [
    "#### We need it in all relevant languages\n",
    "https://www.lgl.bayern.de/lebensmittel/warengruppen/wc_33_weine/et_kennzeichnung_sulfit_weine.htm"
   ]
  },
  {
   "cell_type": "code",
   "execution_count": null,
   "metadata": {},
   "outputs": [],
   "source": [
    "allergens_match = [get_best_match(x, allergens, .7) for x in result.label_cleanup]"
   ]
  },
  {
   "cell_type": "code",
   "execution_count": null,
   "metadata": {},
   "outputs": [],
   "source": [
    "result.allergens = allergens_match"
   ]
  },
  {
   "cell_type": "code",
   "execution_count": null,
   "metadata": {},
   "outputs": [],
   "source": [
    "result.head(20)"
   ]
  },
  {
   "cell_type": "code",
   "execution_count": null,
   "metadata": {},
   "outputs": [],
   "source": [
    "result[result.id.str.contains(pat = 'DSC_0044')] "
   ]
  },
  {
   "cell_type": "code",
   "execution_count": null,
   "metadata": {},
   "outputs": [],
   "source": []
  },
  {
   "cell_type": "code",
   "execution_count": null,
   "metadata": {},
   "outputs": [],
   "source": []
  }
 ],
 "metadata": {
  "kernelspec": {
   "display_name": "Python 3",
   "language": "python",
   "name": "python3"
  },
  "language_info": {
   "codemirror_mode": {
    "name": "ipython",
    "version": 3
   },
   "file_extension": ".py",
   "mimetype": "text/x-python",
   "name": "python",
   "nbconvert_exporter": "python",
   "pygments_lexer": "ipython3",
   "version": "3.7.9"
  }
 },
 "nbformat": 4,
 "nbformat_minor": 4
}
